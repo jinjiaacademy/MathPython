{
 "cells": [
  {
   "cell_type": "code",
   "execution_count": 3,
   "id": "44e3e381",
   "metadata": {},
   "outputs": [],
   "source": [
    "import sympy as sym\n",
    "from IPython.display import display, Math"
   ]
  },
  {
   "cell_type": "code",
   "execution_count": 4,
   "id": "aba62036",
   "metadata": {},
   "outputs": [],
   "source": [
    "x = sym.symbols('x')\n",
    "\n",
    "expr = 2*x + 4 - 9"
   ]
  },
  {
   "cell_type": "code",
   "execution_count": 6,
   "id": "6159ba0f",
   "metadata": {},
   "outputs": [
    {
     "data": {
      "text/plain": [
       "[5/2]"
      ]
     },
     "execution_count": 6,
     "metadata": {},
     "output_type": "execute_result"
    }
   ],
   "source": [
    "sym.solve(expr, x)"
   ]
  },
  {
   "cell_type": "code",
   "execution_count": 10,
   "id": "66c3ab08",
   "metadata": {},
   "outputs": [
    {
     "data": {
      "text/latex": [
       "$\\displaystyle \\text{The solution is } 2 x - 5 \\text{ is x= } 2.5$"
      ],
      "text/plain": [
       "<IPython.core.display.Math object>"
      ]
     },
     "metadata": {},
     "output_type": "display_data"
    }
   ],
   "source": [
    "display(Math('\\\\text{The solution is } %s \\\\text{ is x= } %g' % (sym.latex(expr), sym.solve(expr)[0])))"
   ]
  },
  {
   "cell_type": "code",
   "execution_count": 15,
   "id": "77b45b8a",
   "metadata": {},
   "outputs": [
    {
     "name": "stdout",
     "output_type": "stream",
     "text": [
      "[-2, 2]\n"
     ]
    }
   ],
   "source": [
    "sol = sym.solve(x**2 -4)\n",
    "\n",
    "type(sol)\n",
    "len(sol)\n",
    "print(sol)"
   ]
  },
  {
   "cell_type": "code",
   "execution_count": 18,
   "id": "c101f9c6",
   "metadata": {},
   "outputs": [
    {
     "name": "stdout",
     "output_type": "stream",
     "text": [
      "Solution # 1 is -2\n",
      "Solution # 2 is 2\n"
     ]
    }
   ],
   "source": [
    "expr = x**2 - 4\n",
    "sol = sym.solve(expr)\n",
    "\n",
    "for i in range(len(sol)):\n",
    "    print('Solution # ' + str(i+1) + ' is ' + str(sol[i]))"
   ]
  },
  {
   "cell_type": "code",
   "execution_count": 22,
   "id": "6d6347ba",
   "metadata": {},
   "outputs": [
    {
     "data": {
      "text/plain": [
       "[(x + 20)/(4*x)]"
      ]
     },
     "execution_count": 22,
     "metadata": {},
     "output_type": "execute_result"
    }
   ],
   "source": [
    "x, y = sym.symbols('x, y')\n",
    "expr = x/4 - x*y + 5\n",
    "sym.solve(expr, y)"
   ]
  },
  {
   "cell_type": "code",
   "execution_count": 23,
   "id": "e7e7e618",
   "metadata": {},
   "outputs": [],
   "source": [
    "q = sym.symbols('q')\n",
    "expr = 3*q + 4/q + 3 - (5*q + 1/q +1)"
   ]
  },
  {
   "cell_type": "code",
   "execution_count": 24,
   "id": "a01dff20",
   "metadata": {},
   "outputs": [
    {
     "data": {
      "text/latex": [
       "$\\displaystyle - 2 q + 2 + \\frac{3}{q}$"
      ],
      "text/plain": [
       "-2*q + 2 + 3/q"
      ]
     },
     "execution_count": 24,
     "metadata": {},
     "output_type": "execute_result"
    }
   ],
   "source": [
    "sym.simplify(expr)"
   ]
  },
  {
   "cell_type": "code",
   "execution_count": 33,
   "id": "507780c0",
   "metadata": {},
   "outputs": [
    {
     "data": {
      "text/latex": [
       "$\\displaystyle \\left[ \\frac{1}{2} - \\frac{\\sqrt{7}}{2}, \\  \\frac{1}{2} + \\frac{\\sqrt{7}}{2}\\right]$"
      ],
      "text/plain": [
       "<IPython.core.display.Math object>"
      ]
     },
     "metadata": {},
     "output_type": "display_data"
    }
   ],
   "source": [
    "display(Math(sym.latex(sym.solve(expr, q))))"
   ]
  },
  {
   "cell_type": "code",
   "execution_count": 26,
   "id": "e4f60308",
   "metadata": {},
   "outputs": [
    {
     "data": {
      "text/latex": [
       "$\\displaystyle 3 q^{2} + 2 q - \\frac{5}{q} - \\frac{4}{q^{3}}$"
      ],
      "text/plain": [
       "3*q**2 + 2*q - 5/q - 4/q**3"
      ]
     },
     "execution_count": 26,
     "metadata": {},
     "output_type": "execute_result"
    }
   ],
   "source": [
    "expr1 = 2*q + 3*q**2 - 5/q - 4/q**3\n",
    "sym.simplify(expr1)"
   ]
  },
  {
   "cell_type": "code",
   "execution_count": 27,
   "id": "e08c4a2b",
   "metadata": {},
   "outputs": [
    {
     "data": {
      "text/latex": [
       "$\\displaystyle \\frac{3 q^{5} + 2 q^{4} - 5 q^{2} - 4}{q^{3}}$"
      ],
      "text/plain": [
       "(3*q**5 + 2*q**4 - 5*q**2 - 4)/q**3"
      ]
     },
     "execution_count": 27,
     "metadata": {},
     "output_type": "execute_result"
    }
   ],
   "source": [
    "sym.cancel(expr1)"
   ]
  },
  {
   "cell_type": "code",
   "execution_count": 28,
   "id": "bd57aad4",
   "metadata": {},
   "outputs": [
    {
     "data": {
      "text/plain": [
       "[CRootOf(3*x**5 + 2*x**4 - 5*x**2 - 4, 0),\n",
       " CRootOf(3*x**5 + 2*x**4 - 5*x**2 - 4, 1),\n",
       " CRootOf(3*x**5 + 2*x**4 - 5*x**2 - 4, 2),\n",
       " CRootOf(3*x**5 + 2*x**4 - 5*x**2 - 4, 3),\n",
       " CRootOf(3*x**5 + 2*x**4 - 5*x**2 - 4, 4)]"
      ]
     },
     "execution_count": 28,
     "metadata": {},
     "output_type": "execute_result"
    }
   ],
   "source": [
    "sym.solve(expr1, q)"
   ]
  },
  {
   "cell_type": "code",
   "execution_count": 36,
   "id": "cb5145bb",
   "metadata": {},
   "outputs": [],
   "source": [
    "expr2 = (sym.sqrt(3) + sym.sqrt(15)*q)/(sym.sqrt(2) + sym.sqrt(10)*q)"
   ]
  },
  {
   "cell_type": "code",
   "execution_count": 37,
   "id": "9af3a259",
   "metadata": {},
   "outputs": [
    {
     "data": {
      "text/latex": [
       "$\\displaystyle \\frac{\\sqrt{6}}{2}$"
      ],
      "text/plain": [
       "<IPython.core.display.Math object>"
      ]
     },
     "metadata": {},
     "output_type": "display_data"
    }
   ],
   "source": [
    "display(Math(sym.latex(sym.simplify(expr2))))"
   ]
  },
  {
   "cell_type": "code",
   "execution_count": 40,
   "id": "c7f1ebde",
   "metadata": {},
   "outputs": [
    {
     "data": {
      "text/latex": [
       "$\\displaystyle 1.22474487139159$"
      ],
      "text/plain": [
       "1.22474487139159"
      ]
     },
     "execution_count": 40,
     "metadata": {},
     "output_type": "execute_result"
    }
   ],
   "source": [
    "expr2.subs(q, 1).evalf()"
   ]
  },
  {
   "cell_type": "code",
   "execution_count": 41,
   "id": "c39cd246",
   "metadata": {},
   "outputs": [
    {
     "data": {
      "text/latex": [
       "$\\displaystyle 1.22474487139159$"
      ],
      "text/plain": [
       "1.22474487139159"
      ]
     },
     "execution_count": 41,
     "metadata": {},
     "output_type": "execute_result"
    }
   ],
   "source": [
    "expr2.subs(q, 1000000).evalf()"
   ]
  },
  {
   "cell_type": "code",
   "execution_count": null,
   "id": "e1336640",
   "metadata": {},
   "outputs": [],
   "source": []
  }
 ],
 "metadata": {
  "kernelspec": {
   "display_name": "Python 3 (ipykernel)",
   "language": "python",
   "name": "python3"
  },
  "language_info": {
   "codemirror_mode": {
    "name": "ipython",
    "version": 3
   },
   "file_extension": ".py",
   "mimetype": "text/x-python",
   "name": "python",
   "nbconvert_exporter": "python",
   "pygments_lexer": "ipython3",
   "version": "3.9.13"
  }
 },
 "nbformat": 4,
 "nbformat_minor": 5
}
