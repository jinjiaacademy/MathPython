{
 "cells": [
  {
   "cell_type": "code",
   "execution_count": 1,
   "id": "44e3e381",
   "metadata": {},
   "outputs": [],
   "source": [
    "import sympy as sym\n",
    "from IPython.display import display, Math"
   ]
  },
  {
   "cell_type": "code",
   "execution_count": 2,
   "id": "aba62036",
   "metadata": {},
   "outputs": [],
   "source": [
    "x = sym.symbols('x')\n",
    "\n",
    "expr = 2*x + 4 - 9"
   ]
  },
  {
   "cell_type": "code",
   "execution_count": 3,
   "id": "6159ba0f",
   "metadata": {},
   "outputs": [
    {
     "data": {
      "text/plain": [
       "[5/2]"
      ]
     },
     "execution_count": 3,
     "metadata": {},
     "output_type": "execute_result"
    }
   ],
   "source": [
    "sym.solve(expr, x)"
   ]
  },
  {
   "cell_type": "code",
   "execution_count": 4,
   "id": "66c3ab08",
   "metadata": {},
   "outputs": [
    {
     "data": {
      "text/latex": [
       "$\\displaystyle \\text{The solution is } 2 x - 5 \\text{ is x= } 2.5$"
      ],
      "text/plain": [
       "<IPython.core.display.Math object>"
      ]
     },
     "metadata": {},
     "output_type": "display_data"
    }
   ],
   "source": [
    "display(Math('\\\\text{The solution is } %s \\\\text{ is x= } %g' % (sym.latex(expr), sym.solve(expr)[0])))"
   ]
  },
  {
   "cell_type": "code",
   "execution_count": 5,
   "id": "77b45b8a",
   "metadata": {},
   "outputs": [
    {
     "name": "stdout",
     "output_type": "stream",
     "text": [
      "[-2, 2]\n"
     ]
    }
   ],
   "source": [
    "sol = sym.solve(x**2 -4)\n",
    "\n",
    "type(sol)\n",
    "len(sol)\n",
    "print(sol)"
   ]
  },
  {
   "cell_type": "code",
   "execution_count": 6,
   "id": "c101f9c6",
   "metadata": {},
   "outputs": [
    {
     "name": "stdout",
     "output_type": "stream",
     "text": [
      "Solution # 1 is -2\n",
      "Solution # 2 is 2\n"
     ]
    }
   ],
   "source": [
    "expr = x**2 - 4\n",
    "sol = sym.solve(expr)\n",
    "\n",
    "for i in range(len(sol)):\n",
    "    print('Solution # ' + str(i+1) + ' is ' + str(sol[i]))"
   ]
  },
  {
   "cell_type": "code",
   "execution_count": 7,
   "id": "6d6347ba",
   "metadata": {},
   "outputs": [
    {
     "data": {
      "text/plain": [
       "[(x + 20)/(4*x)]"
      ]
     },
     "execution_count": 7,
     "metadata": {},
     "output_type": "execute_result"
    }
   ],
   "source": [
    "x, y = sym.symbols('x, y')\n",
    "expr = x/4 - x*y + 5\n",
    "sym.solve(expr, y)"
   ]
  },
  {
   "cell_type": "code",
   "execution_count": 8,
   "id": "e7e7e618",
   "metadata": {},
   "outputs": [],
   "source": [
    "q = sym.symbols('q')\n",
    "expr = 3*q + 4/q + 3 - (5*q + 1/q +1)"
   ]
  },
  {
   "cell_type": "code",
   "execution_count": 9,
   "id": "a01dff20",
   "metadata": {},
   "outputs": [
    {
     "data": {
      "text/latex": [
       "$\\displaystyle - 2 q + 2 + \\frac{3}{q}$"
      ],
      "text/plain": [
       "-2*q + 2 + 3/q"
      ]
     },
     "execution_count": 9,
     "metadata": {},
     "output_type": "execute_result"
    }
   ],
   "source": [
    "sym.simplify(expr)"
   ]
  },
  {
   "cell_type": "code",
   "execution_count": 10,
   "id": "507780c0",
   "metadata": {},
   "outputs": [
    {
     "data": {
      "text/latex": [
       "$\\displaystyle \\left[ \\frac{1}{2} - \\frac{\\sqrt{7}}{2}, \\  \\frac{1}{2} + \\frac{\\sqrt{7}}{2}\\right]$"
      ],
      "text/plain": [
       "<IPython.core.display.Math object>"
      ]
     },
     "metadata": {},
     "output_type": "display_data"
    }
   ],
   "source": [
    "display(Math(sym.latex(sym.solve(expr, q))))"
   ]
  },
  {
   "cell_type": "code",
   "execution_count": 11,
   "id": "e4f60308",
   "metadata": {},
   "outputs": [
    {
     "data": {
      "text/latex": [
       "$\\displaystyle 3 q^{2} + 2 q - \\frac{5}{q} - \\frac{4}{q^{3}}$"
      ],
      "text/plain": [
       "3*q**2 + 2*q - 5/q - 4/q**3"
      ]
     },
     "execution_count": 11,
     "metadata": {},
     "output_type": "execute_result"
    }
   ],
   "source": [
    "expr1 = 2*q + 3*q**2 - 5/q - 4/q**3\n",
    "sym.simplify(expr1)"
   ]
  },
  {
   "cell_type": "code",
   "execution_count": 12,
   "id": "e08c4a2b",
   "metadata": {},
   "outputs": [
    {
     "data": {
      "text/latex": [
       "$\\displaystyle \\frac{3 q^{5} + 2 q^{4} - 5 q^{2} - 4}{q^{3}}$"
      ],
      "text/plain": [
       "(3*q**5 + 2*q**4 - 5*q**2 - 4)/q**3"
      ]
     },
     "execution_count": 12,
     "metadata": {},
     "output_type": "execute_result"
    }
   ],
   "source": [
    "sym.cancel(expr1)"
   ]
  },
  {
   "cell_type": "code",
   "execution_count": 13,
   "id": "bd57aad4",
   "metadata": {},
   "outputs": [
    {
     "data": {
      "text/plain": [
       "[CRootOf(3*x**5 + 2*x**4 - 5*x**2 - 4, 0),\n",
       " CRootOf(3*x**5 + 2*x**4 - 5*x**2 - 4, 1),\n",
       " CRootOf(3*x**5 + 2*x**4 - 5*x**2 - 4, 2),\n",
       " CRootOf(3*x**5 + 2*x**4 - 5*x**2 - 4, 3),\n",
       " CRootOf(3*x**5 + 2*x**4 - 5*x**2 - 4, 4)]"
      ]
     },
     "execution_count": 13,
     "metadata": {},
     "output_type": "execute_result"
    }
   ],
   "source": [
    "sym.solve(expr1, q)"
   ]
  },
  {
   "cell_type": "code",
   "execution_count": 14,
   "id": "cb5145bb",
   "metadata": {},
   "outputs": [],
   "source": [
    "expr2 = (sym.sqrt(3) + sym.sqrt(15)*q)/(sym.sqrt(2) + sym.sqrt(10)*q)"
   ]
  },
  {
   "cell_type": "code",
   "execution_count": 15,
   "id": "9af3a259",
   "metadata": {},
   "outputs": [
    {
     "data": {
      "text/latex": [
       "$\\displaystyle \\frac{\\sqrt{6}}{2}$"
      ],
      "text/plain": [
       "<IPython.core.display.Math object>"
      ]
     },
     "metadata": {},
     "output_type": "display_data"
    }
   ],
   "source": [
    "display(Math(sym.latex(sym.simplify(expr2))))"
   ]
  },
  {
   "cell_type": "code",
   "execution_count": 16,
   "id": "c7f1ebde",
   "metadata": {},
   "outputs": [
    {
     "data": {
      "text/latex": [
       "$\\displaystyle 1.22474487139159$"
      ],
      "text/plain": [
       "1.22474487139159"
      ]
     },
     "execution_count": 16,
     "metadata": {},
     "output_type": "execute_result"
    }
   ],
   "source": [
    "expr2.subs(q, 1).evalf()"
   ]
  },
  {
   "cell_type": "code",
   "execution_count": 18,
   "id": "c39cd246",
   "metadata": {},
   "outputs": [
    {
     "data": {
      "text/latex": [
       "$\\displaystyle 1.22474487139159$"
      ],
      "text/plain": [
       "1.22474487139159"
      ]
     },
     "execution_count": 18,
     "metadata": {},
     "output_type": "execute_result"
    }
   ],
   "source": [
    "expr2.subs(q, 1000000).evalf()"
   ]
  },
  {
   "cell_type": "code",
   "execution_count": 19,
   "id": "fb1c8e43",
   "metadata": {},
   "outputs": [
    {
     "name": "stdout",
     "output_type": "stream",
     "text": [
      "x*(4*x + 5)\n"
     ]
    }
   ],
   "source": [
    "term1 = (4*x + 5)\n",
    "term2 = x\n",
    "\n",
    "print(term1 * term2)"
   ]
  },
  {
   "cell_type": "code",
   "execution_count": 20,
   "id": "035ac50c",
   "metadata": {},
   "outputs": [
    {
     "name": "stdout",
     "output_type": "stream",
     "text": [
      "4*x**2 + 5*x\n"
     ]
    }
   ],
   "source": [
    "print(sym.expand(term1*term2))"
   ]
  },
  {
   "cell_type": "code",
   "execution_count": 21,
   "id": "baaa79bf",
   "metadata": {},
   "outputs": [
    {
     "data": {
      "text/latex": [
       "$\\displaystyle 4 x^{2} + 5 x$"
      ],
      "text/plain": [
       "<IPython.core.display.Math object>"
      ]
     },
     "metadata": {},
     "output_type": "display_data"
    }
   ],
   "source": [
    "display(Math(sym.latex(sym.expand(term1*term2))))"
   ]
  },
  {
   "cell_type": "code",
   "execution_count": 22,
   "id": "48710821",
   "metadata": {},
   "outputs": [
    {
     "data": {
      "text/latex": [
       "$\\displaystyle \\left(x - 7\\right) \\left(4 x + 5\\right)$"
      ],
      "text/plain": [
       "<IPython.core.display.Math object>"
      ]
     },
     "metadata": {},
     "output_type": "display_data"
    }
   ],
   "source": [
    "term3 = x-7\n",
    "\n",
    "display(Math(sym.latex(term1*term3)))"
   ]
  },
  {
   "cell_type": "code",
   "execution_count": 24,
   "id": "41710705",
   "metadata": {},
   "outputs": [
    {
     "data": {
      "text/latex": [
       "$\\displaystyle 4 x^{2} - 23 x - 35$"
      ],
      "text/plain": [
       "<IPython.core.display.Math object>"
      ]
     },
     "metadata": {},
     "output_type": "display_data"
    }
   ],
   "source": [
    "display(Math(sym.latex(sym.expand(term1*term3))))"
   ]
  },
  {
   "cell_type": "code",
   "execution_count": 25,
   "id": "b5b2b904",
   "metadata": {},
   "outputs": [],
   "source": [
    "y = sym.symbols('y')"
   ]
  },
  {
   "cell_type": "code",
   "execution_count": 27,
   "id": "ce680884",
   "metadata": {},
   "outputs": [
    {
     "data": {
      "text/latex": [
       "$\\displaystyle x \\left(- \\frac{5^{x}}{x} + 2 y^{2}\\right)$"
      ],
      "text/plain": [
       "<IPython.core.display.Math object>"
      ]
     },
     "metadata": {},
     "output_type": "display_data"
    },
    {
     "data": {
      "text/latex": [
       "$\\displaystyle - 5^{x} + 2 x y^{2}$"
      ],
      "text/plain": [
       "<IPython.core.display.Math object>"
      ]
     },
     "metadata": {},
     "output_type": "display_data"
    }
   ],
   "source": [
    "expr = x*(2*y**2 - 5**x/x)\n",
    "display(Math(sym.latex(expr)))\n",
    "display(Math(sym.latex(sym.expand(expr))))"
   ]
  },
  {
   "cell_type": "code",
   "execution_count": 28,
   "id": "d7659ddd",
   "metadata": {},
   "outputs": [
    {
     "name": "stdout",
     "output_type": "stream",
     "text": [
      "Variable   Type        Data/Info\n",
      "--------------------------------\n",
      "Math       type        <class 'IPython.core.display.Math'>\n",
      "display    function    <function display at 0x000001523214E940>\n",
      "expr       Mul         x*(-5**x/x + 2*y**2)\n",
      "expr1      Add         3*q**2 + 2*q - 5/q - 4/q**3\n",
      "expr2      Mul         (sqrt(15)*q + sqrt(3))/(sqrt(10)*q + sqrt(2))\n",
      "i          int         1\n",
      "q          Symbol      q\n",
      "sol        list        n=2\n",
      "sym        module      <module 'sympy' from 'C:\\<...>ges\\\\sympy\\\\__init__.py'>\n",
      "term1      Add         4*x + 5\n",
      "term2      Symbol      x\n",
      "term3      Add         x - 7\n",
      "x          Symbol      x\n",
      "y          Symbol      y\n"
     ]
    }
   ],
   "source": [
    "%whos"
   ]
  },
  {
   "cell_type": "code",
   "execution_count": 39,
   "id": "594c9c3c",
   "metadata": {},
   "outputs": [
    {
     "name": "stdout",
     "output_type": "stream",
     "text": [
      "When x = 0 and y = 0, f(x, y) = 8\n",
      "When x = 0 and y = 1, f(x, y) = 4\n",
      "When x = 0 and y = 2, f(x, y) = 0\n",
      "When x = 1 and y = 0, f(x, y) = 10\n",
      "When x = 1 and y = 1, f(x, y) = 5\n",
      "When x = 1 and y = 2, f(x, y) = 0\n",
      "When x = 2 and y = 0, f(x, y) = 12\n",
      "When x = 2 and y = 1, f(x, y) = 6\n",
      "When x = 2 and y = 2, f(x, y) = 0\n"
     ]
    }
   ],
   "source": [
    "x, y = sym.symbols('x, y')\n",
    "\n",
    "expr = (4 + x)*(2 - y)\n",
    "\n",
    "numrange = range(3)\n",
    "\n",
    "for xi in numrange:\n",
    "    for yi in numrange:\n",
    "        print('When x = %g and y = %g, f(x, y) = %g' % (xi, yi, expr.subs({x:xi, y:yi})))\n",
    "        "
   ]
  },
  {
   "cell_type": "code",
   "execution_count": 1,
   "id": "3edf69ce",
   "metadata": {},
   "outputs": [],
   "source": [
    "import numpy as np\n",
    "import sympy as sym\n",
    "from IPython.display import display, Math"
   ]
  },
  {
   "cell_type": "code",
   "execution_count": 4,
   "id": "a5abd9b8",
   "metadata": {},
   "outputs": [
    {
     "data": {
      "text/plain": [
       "array([[1, 2],\n",
       "       [3, 4]])"
      ]
     },
     "execution_count": 4,
     "metadata": {},
     "output_type": "execute_result"
    }
   ],
   "source": [
    "A = np.array([[1, 2], [3, 4]])\n",
    "A"
   ]
  },
  {
   "cell_type": "code",
   "execution_count": 5,
   "id": "9acd7d71",
   "metadata": {},
   "outputs": [
    {
     "data": {
      "text/plain": [
       "numpy.ndarray"
      ]
     },
     "execution_count": 5,
     "metadata": {},
     "output_type": "execute_result"
    }
   ],
   "source": [
    "type(A)"
   ]
  },
  {
   "cell_type": "code",
   "execution_count": 6,
   "id": "f6eea895",
   "metadata": {},
   "outputs": [
    {
     "data": {
      "text/latex": [
       "$\\displaystyle \\left[\\begin{matrix}1 & 2\\\\3 & 4\\end{matrix}\\right]$"
      ],
      "text/plain": [
       "<IPython.core.display.Math object>"
      ]
     },
     "metadata": {},
     "output_type": "display_data"
    }
   ],
   "source": [
    "display(Math(sym.latex(sym.sympify(A))))"
   ]
  },
  {
   "cell_type": "code",
   "execution_count": 8,
   "id": "c4b2de61",
   "metadata": {},
   "outputs": [],
   "source": [
    "mat = np.zeros([4, 6])"
   ]
  },
  {
   "cell_type": "code",
   "execution_count": 14,
   "id": "71751b90",
   "metadata": {},
   "outputs": [],
   "source": [
    "mat[0, 1] = 2\n",
    "mat[2, 4] = 7"
   ]
  },
  {
   "cell_type": "code",
   "execution_count": 15,
   "id": "6899c6d7",
   "metadata": {},
   "outputs": [
    {
     "data": {
      "text/plain": [
       "array([[0., 2., 0., 0., 0., 0.],\n",
       "       [0., 0., 0., 0., 0., 0.],\n",
       "       [0., 0., 0., 0., 7., 0.],\n",
       "       [0., 0., 0., 0., 0., 0.]])"
      ]
     },
     "execution_count": 15,
     "metadata": {},
     "output_type": "execute_result"
    }
   ],
   "source": [
    "mat"
   ]
  },
  {
   "cell_type": "code",
   "execution_count": 16,
   "id": "1778637f",
   "metadata": {},
   "outputs": [
    {
     "data": {
      "text/latex": [
       "$\\displaystyle \\left[\\begin{matrix}0.0 & 2.0 & 0.0 & 0.0 & 0.0 & 0.0\\\\0.0 & 0.0 & 0.0 & 0.0 & 0.0 & 0.0\\\\0.0 & 0.0 & 0.0 & 0.0 & 7.0 & 0.0\\\\0.0 & 0.0 & 0.0 & 0.0 & 0.0 & 0.0\\end{matrix}\\right]$"
      ],
      "text/plain": [
       "<IPython.core.display.Math object>"
      ]
     },
     "metadata": {},
     "output_type": "display_data"
    }
   ],
   "source": [
    "display(Math(sym.latex(sym.sympify(mat))))"
   ]
  },
  {
   "cell_type": "code",
   "execution_count": 19,
   "id": "914c8d7b",
   "metadata": {},
   "outputs": [
    {
     "data": {
      "text/plain": [
       "array([[ 1., -1.,  1., -1.,  0.,  0.],\n",
       "       [-1.,  1., -1.,  1.,  0.,  0.],\n",
       "       [ 1., -1.,  1., -1.,  7.,  0.],\n",
       "       [-1.,  1., -1.,  1.,  0.,  0.]])"
      ]
     },
     "execution_count": 19,
     "metadata": {},
     "output_type": "execute_result"
    }
   ],
   "source": [
    "numrange = range(4)\n",
    "\n",
    "for rowi in numrange:\n",
    "    for coli in numrange:\n",
    "        mat[rowi, coli] = (-1)**(rowi+coli)\n",
    "        \n",
    "mat"
   ]
  },
  {
   "cell_type": "code",
   "execution_count": 31,
   "id": "aef4d3e7",
   "metadata": {},
   "outputs": [
    {
     "data": {
      "text/plain": [
       "array([[0., 0., 0.],\n",
       "       [0., 0., 0.],\n",
       "       [0., 0., 0.]])"
      ]
     },
     "execution_count": 31,
     "metadata": {},
     "output_type": "execute_result"
    }
   ],
   "source": [
    "x, y = sym.symbols('x, y')\n",
    "\n",
    "numrange = range(3)\n",
    "\n",
    "expr = (4 + x)*(2 - y)\n",
    "\n",
    "mat = np.zeros([len(numrange), len(numrange)])\n",
    "mat"
   ]
  },
  {
   "cell_type": "code",
   "execution_count": 32,
   "id": "50c49894",
   "metadata": {},
   "outputs": [],
   "source": [
    "for xi in numrange:\n",
    "    for yi in numrange:\n",
    "        mat[xi, yi] = expr.subs({x:xi, y:yi})"
   ]
  },
  {
   "cell_type": "code",
   "execution_count": 33,
   "id": "b22460ef",
   "metadata": {},
   "outputs": [
    {
     "data": {
      "text/latex": [
       "$\\displaystyle \\left[\\begin{matrix}8.0 & 4.0 & 0.0\\\\10.0 & 5.0 & 0.0\\\\12.0 & 6.0 & 0.0\\end{matrix}\\right]$"
      ],
      "text/plain": [
       "<IPython.core.display.Math object>"
      ]
     },
     "metadata": {},
     "output_type": "display_data"
    }
   ],
   "source": [
    "display(Math(sym.latex(sym.sympify(mat))))"
   ]
  },
  {
   "cell_type": "code",
   "execution_count": 63,
   "id": "7897f942",
   "metadata": {},
   "outputs": [
    {
     "data": {
      "text/plain": [
       "array([[0, 0, 0, 0, 0, 0, 0, 0, 0, 0],\n",
       "       [0, 0, 0, 0, 0, 0, 0, 0, 0, 0],\n",
       "       [0, 0, 0, 0, 0, 0, 0, 0, 0, 0],\n",
       "       [0, 0, 0, 0, 0, 0, 0, 0, 0, 0],\n",
       "       [0, 0, 0, 0, 0, 0, 0, 0, 0, 0],\n",
       "       [0, 0, 0, 0, 0, 0, 0, 0, 0, 0],\n",
       "       [0, 0, 0, 0, 0, 0, 0, 0, 0, 0],\n",
       "       [0, 0, 0, 0, 0, 0, 0, 0, 0, 0],\n",
       "       [0, 0, 0, 0, 0, 0, 0, 0, 0, 0],\n",
       "       [0, 0, 0, 0, 0, 0, 0, 0, 0, 0]])"
      ]
     },
     "execution_count": 63,
     "metadata": {},
     "output_type": "execute_result"
    }
   ],
   "source": [
    "# create a multiplication table\n",
    "x, y = sym.symbols('x y')\n",
    "\n",
    "numrange = range(10)\n",
    "\n",
    "table = np.zeros([len(numrange), len(numrange)], dtype=int)\n",
    "table"
   ]
  },
  {
   "cell_type": "code",
   "execution_count": 64,
   "id": "66aa2eef",
   "metadata": {},
   "outputs": [],
   "source": [
    "for i in numrange:\n",
    "    for j in numrange:\n",
    "        table[i, j] = (i+1)*(j+1)"
   ]
  },
  {
   "cell_type": "code",
   "execution_count": 65,
   "id": "a26fcb30",
   "metadata": {},
   "outputs": [
    {
     "data": {
      "text/latex": [
       "$\\displaystyle \\left[\\begin{matrix}1 & 2 & 3 & 4 & 5 & 6 & 7 & 8 & 9 & 10\\\\2 & 4 & 6 & 8 & 10 & 12 & 14 & 16 & 18 & 20\\\\3 & 6 & 9 & 12 & 15 & 18 & 21 & 24 & 27 & 30\\\\4 & 8 & 12 & 16 & 20 & 24 & 28 & 32 & 36 & 40\\\\5 & 10 & 15 & 20 & 25 & 30 & 35 & 40 & 45 & 50\\\\6 & 12 & 18 & 24 & 30 & 36 & 42 & 48 & 54 & 60\\\\7 & 14 & 21 & 28 & 35 & 42 & 49 & 56 & 63 & 70\\\\8 & 16 & 24 & 32 & 40 & 48 & 56 & 64 & 72 & 80\\\\9 & 18 & 27 & 36 & 45 & 54 & 63 & 72 & 81 & 90\\\\10 & 20 & 30 & 40 & 50 & 60 & 70 & 80 & 90 & 100\\end{matrix}\\right]$"
      ],
      "text/plain": [
       "<IPython.core.display.Math object>"
      ]
     },
     "metadata": {},
     "output_type": "display_data"
    }
   ],
   "source": [
    "display(Math(sym.latex(sym.sympify(table))))"
   ]
  },
  {
   "cell_type": "code",
   "execution_count": null,
   "id": "99e69c42",
   "metadata": {},
   "outputs": [],
   "source": []
  }
 ],
 "metadata": {
  "kernelspec": {
   "display_name": "Python 3 (ipykernel)",
   "language": "python",
   "name": "python3"
  },
  "language_info": {
   "codemirror_mode": {
    "name": "ipython",
    "version": 3
   },
   "file_extension": ".py",
   "mimetype": "text/x-python",
   "name": "python",
   "nbconvert_exporter": "python",
   "pygments_lexer": "ipython3",
   "version": "3.9.13"
  }
 },
 "nbformat": 4,
 "nbformat_minor": 5
}
