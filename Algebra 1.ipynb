{
 "cells": [
  {
   "cell_type": "code",
   "execution_count": 1,
   "id": "44e3e381",
   "metadata": {},
   "outputs": [],
   "source": [
    "import sympy as sym\n",
    "from IPython.display import display, Math"
   ]
  },
  {
   "cell_type": "code",
   "execution_count": 2,
   "id": "aba62036",
   "metadata": {},
   "outputs": [],
   "source": [
    "x = sym.symbols('x')\n",
    "\n",
    "expr = 2*x + 4 - 9"
   ]
  },
  {
   "cell_type": "code",
   "execution_count": 3,
   "id": "6159ba0f",
   "metadata": {},
   "outputs": [
    {
     "data": {
      "text/plain": [
       "[5/2]"
      ]
     },
     "execution_count": 3,
     "metadata": {},
     "output_type": "execute_result"
    }
   ],
   "source": [
    "sym.solve(expr, x)"
   ]
  },
  {
   "cell_type": "code",
   "execution_count": 4,
   "id": "66c3ab08",
   "metadata": {},
   "outputs": [
    {
     "data": {
      "text/latex": [
       "$\\displaystyle \\text{The solution is } 2 x - 5 \\text{ is x= } 2.5$"
      ],
      "text/plain": [
       "<IPython.core.display.Math object>"
      ]
     },
     "metadata": {},
     "output_type": "display_data"
    }
   ],
   "source": [
    "display(Math('\\\\text{The solution is } %s \\\\text{ is x= } %g' % (sym.latex(expr), sym.solve(expr)[0])))"
   ]
  },
  {
   "cell_type": "code",
   "execution_count": 5,
   "id": "77b45b8a",
   "metadata": {},
   "outputs": [
    {
     "name": "stdout",
     "output_type": "stream",
     "text": [
      "[-2, 2]\n"
     ]
    }
   ],
   "source": [
    "sol = sym.solve(x**2 -4)\n",
    "\n",
    "type(sol)\n",
    "len(sol)\n",
    "print(sol)"
   ]
  },
  {
   "cell_type": "code",
   "execution_count": 6,
   "id": "c101f9c6",
   "metadata": {},
   "outputs": [
    {
     "name": "stdout",
     "output_type": "stream",
     "text": [
      "Solution # 1 is -2\n",
      "Solution # 2 is 2\n"
     ]
    }
   ],
   "source": [
    "expr = x**2 - 4\n",
    "sol = sym.solve(expr)\n",
    "\n",
    "for i in range(len(sol)):\n",
    "    print('Solution # ' + str(i+1) + ' is ' + str(sol[i]))"
   ]
  },
  {
   "cell_type": "code",
   "execution_count": 7,
   "id": "6d6347ba",
   "metadata": {},
   "outputs": [
    {
     "data": {
      "text/plain": [
       "[(x + 20)/(4*x)]"
      ]
     },
     "execution_count": 7,
     "metadata": {},
     "output_type": "execute_result"
    }
   ],
   "source": [
    "x, y = sym.symbols('x, y')\n",
    "expr = x/4 - x*y + 5\n",
    "sym.solve(expr, y)"
   ]
  },
  {
   "cell_type": "code",
   "execution_count": 8,
   "id": "e7e7e618",
   "metadata": {},
   "outputs": [],
   "source": [
    "q = sym.symbols('q')\n",
    "expr = 3*q + 4/q + 3 - (5*q + 1/q +1)"
   ]
  },
  {
   "cell_type": "code",
   "execution_count": 9,
   "id": "a01dff20",
   "metadata": {},
   "outputs": [
    {
     "data": {
      "text/latex": [
       "$\\displaystyle - 2 q + 2 + \\frac{3}{q}$"
      ],
      "text/plain": [
       "-2*q + 2 + 3/q"
      ]
     },
     "execution_count": 9,
     "metadata": {},
     "output_type": "execute_result"
    }
   ],
   "source": [
    "sym.simplify(expr)"
   ]
  },
  {
   "cell_type": "code",
   "execution_count": 10,
   "id": "507780c0",
   "metadata": {},
   "outputs": [
    {
     "data": {
      "text/latex": [
       "$\\displaystyle \\left[ \\frac{1}{2} - \\frac{\\sqrt{7}}{2}, \\  \\frac{1}{2} + \\frac{\\sqrt{7}}{2}\\right]$"
      ],
      "text/plain": [
       "<IPython.core.display.Math object>"
      ]
     },
     "metadata": {},
     "output_type": "display_data"
    }
   ],
   "source": [
    "display(Math(sym.latex(sym.solve(expr, q))))"
   ]
  },
  {
   "cell_type": "code",
   "execution_count": 11,
   "id": "e4f60308",
   "metadata": {},
   "outputs": [
    {
     "data": {
      "text/latex": [
       "$\\displaystyle 3 q^{2} + 2 q - \\frac{5}{q} - \\frac{4}{q^{3}}$"
      ],
      "text/plain": [
       "3*q**2 + 2*q - 5/q - 4/q**3"
      ]
     },
     "execution_count": 11,
     "metadata": {},
     "output_type": "execute_result"
    }
   ],
   "source": [
    "expr1 = 2*q + 3*q**2 - 5/q - 4/q**3\n",
    "sym.simplify(expr1)"
   ]
  },
  {
   "cell_type": "code",
   "execution_count": 12,
   "id": "e08c4a2b",
   "metadata": {},
   "outputs": [
    {
     "data": {
      "text/latex": [
       "$\\displaystyle \\frac{3 q^{5} + 2 q^{4} - 5 q^{2} - 4}{q^{3}}$"
      ],
      "text/plain": [
       "(3*q**5 + 2*q**4 - 5*q**2 - 4)/q**3"
      ]
     },
     "execution_count": 12,
     "metadata": {},
     "output_type": "execute_result"
    }
   ],
   "source": [
    "sym.cancel(expr1)"
   ]
  },
  {
   "cell_type": "code",
   "execution_count": 13,
   "id": "bd57aad4",
   "metadata": {},
   "outputs": [
    {
     "data": {
      "text/plain": [
       "[CRootOf(3*x**5 + 2*x**4 - 5*x**2 - 4, 0),\n",
       " CRootOf(3*x**5 + 2*x**4 - 5*x**2 - 4, 1),\n",
       " CRootOf(3*x**5 + 2*x**4 - 5*x**2 - 4, 2),\n",
       " CRootOf(3*x**5 + 2*x**4 - 5*x**2 - 4, 3),\n",
       " CRootOf(3*x**5 + 2*x**4 - 5*x**2 - 4, 4)]"
      ]
     },
     "execution_count": 13,
     "metadata": {},
     "output_type": "execute_result"
    }
   ],
   "source": [
    "sym.solve(expr1, q)"
   ]
  },
  {
   "cell_type": "code",
   "execution_count": 14,
   "id": "cb5145bb",
   "metadata": {},
   "outputs": [],
   "source": [
    "expr2 = (sym.sqrt(3) + sym.sqrt(15)*q)/(sym.sqrt(2) + sym.sqrt(10)*q)"
   ]
  },
  {
   "cell_type": "code",
   "execution_count": 15,
   "id": "9af3a259",
   "metadata": {},
   "outputs": [
    {
     "data": {
      "text/latex": [
       "$\\displaystyle \\frac{\\sqrt{6}}{2}$"
      ],
      "text/plain": [
       "<IPython.core.display.Math object>"
      ]
     },
     "metadata": {},
     "output_type": "display_data"
    }
   ],
   "source": [
    "display(Math(sym.latex(sym.simplify(expr2))))"
   ]
  },
  {
   "cell_type": "code",
   "execution_count": 16,
   "id": "c7f1ebde",
   "metadata": {},
   "outputs": [
    {
     "data": {
      "text/latex": [
       "$\\displaystyle 1.22474487139159$"
      ],
      "text/plain": [
       "1.22474487139159"
      ]
     },
     "execution_count": 16,
     "metadata": {},
     "output_type": "execute_result"
    }
   ],
   "source": [
    "expr2.subs(q, 1).evalf()"
   ]
  },
  {
   "cell_type": "code",
   "execution_count": 18,
   "id": "c39cd246",
   "metadata": {},
   "outputs": [
    {
     "data": {
      "text/latex": [
       "$\\displaystyle 1.22474487139159$"
      ],
      "text/plain": [
       "1.22474487139159"
      ]
     },
     "execution_count": 18,
     "metadata": {},
     "output_type": "execute_result"
    }
   ],
   "source": [
    "expr2.subs(q, 1000000).evalf()"
   ]
  },
  {
   "cell_type": "code",
   "execution_count": 19,
   "id": "fb1c8e43",
   "metadata": {},
   "outputs": [
    {
     "name": "stdout",
     "output_type": "stream",
     "text": [
      "x*(4*x + 5)\n"
     ]
    }
   ],
   "source": [
    "term1 = (4*x + 5)\n",
    "term2 = x\n",
    "\n",
    "print(term1 * term2)"
   ]
  },
  {
   "cell_type": "code",
   "execution_count": 20,
   "id": "035ac50c",
   "metadata": {},
   "outputs": [
    {
     "name": "stdout",
     "output_type": "stream",
     "text": [
      "4*x**2 + 5*x\n"
     ]
    }
   ],
   "source": [
    "print(sym.expand(term1*term2))"
   ]
  },
  {
   "cell_type": "code",
   "execution_count": 21,
   "id": "baaa79bf",
   "metadata": {},
   "outputs": [
    {
     "data": {
      "text/latex": [
       "$\\displaystyle 4 x^{2} + 5 x$"
      ],
      "text/plain": [
       "<IPython.core.display.Math object>"
      ]
     },
     "metadata": {},
     "output_type": "display_data"
    }
   ],
   "source": [
    "display(Math(sym.latex(sym.expand(term1*term2))))"
   ]
  },
  {
   "cell_type": "code",
   "execution_count": 22,
   "id": "48710821",
   "metadata": {},
   "outputs": [
    {
     "data": {
      "text/latex": [
       "$\\displaystyle \\left(x - 7\\right) \\left(4 x + 5\\right)$"
      ],
      "text/plain": [
       "<IPython.core.display.Math object>"
      ]
     },
     "metadata": {},
     "output_type": "display_data"
    }
   ],
   "source": [
    "term3 = x-7\n",
    "\n",
    "display(Math(sym.latex(term1*term3)))"
   ]
  },
  {
   "cell_type": "code",
   "execution_count": 24,
   "id": "41710705",
   "metadata": {},
   "outputs": [
    {
     "data": {
      "text/latex": [
       "$\\displaystyle 4 x^{2} - 23 x - 35$"
      ],
      "text/plain": [
       "<IPython.core.display.Math object>"
      ]
     },
     "metadata": {},
     "output_type": "display_data"
    }
   ],
   "source": [
    "display(Math(sym.latex(sym.expand(term1*term3))))"
   ]
  },
  {
   "cell_type": "code",
   "execution_count": 25,
   "id": "b5b2b904",
   "metadata": {},
   "outputs": [],
   "source": [
    "y = sym.symbols('y')"
   ]
  },
  {
   "cell_type": "code",
   "execution_count": 27,
   "id": "ce680884",
   "metadata": {},
   "outputs": [
    {
     "data": {
      "text/latex": [
       "$\\displaystyle x \\left(- \\frac{5^{x}}{x} + 2 y^{2}\\right)$"
      ],
      "text/plain": [
       "<IPython.core.display.Math object>"
      ]
     },
     "metadata": {},
     "output_type": "display_data"
    },
    {
     "data": {
      "text/latex": [
       "$\\displaystyle - 5^{x} + 2 x y^{2}$"
      ],
      "text/plain": [
       "<IPython.core.display.Math object>"
      ]
     },
     "metadata": {},
     "output_type": "display_data"
    }
   ],
   "source": [
    "expr = x*(2*y**2 - 5**x/x)\n",
    "display(Math(sym.latex(expr)))\n",
    "display(Math(sym.latex(sym.expand(expr))))"
   ]
  },
  {
   "cell_type": "code",
   "execution_count": 28,
   "id": "d7659ddd",
   "metadata": {},
   "outputs": [
    {
     "name": "stdout",
     "output_type": "stream",
     "text": [
      "Variable   Type        Data/Info\n",
      "--------------------------------\n",
      "Math       type        <class 'IPython.core.display.Math'>\n",
      "display    function    <function display at 0x000001523214E940>\n",
      "expr       Mul         x*(-5**x/x + 2*y**2)\n",
      "expr1      Add         3*q**2 + 2*q - 5/q - 4/q**3\n",
      "expr2      Mul         (sqrt(15)*q + sqrt(3))/(sqrt(10)*q + sqrt(2))\n",
      "i          int         1\n",
      "q          Symbol      q\n",
      "sol        list        n=2\n",
      "sym        module      <module 'sympy' from 'C:\\<...>ges\\\\sympy\\\\__init__.py'>\n",
      "term1      Add         4*x + 5\n",
      "term2      Symbol      x\n",
      "term3      Add         x - 7\n",
      "x          Symbol      x\n",
      "y          Symbol      y\n"
     ]
    }
   ],
   "source": [
    "%whos"
   ]
  },
  {
   "cell_type": "code",
   "execution_count": 39,
   "id": "594c9c3c",
   "metadata": {},
   "outputs": [
    {
     "name": "stdout",
     "output_type": "stream",
     "text": [
      "When x = 0 and y = 0, f(x, y) = 8\n",
      "When x = 0 and y = 1, f(x, y) = 4\n",
      "When x = 0 and y = 2, f(x, y) = 0\n",
      "When x = 1 and y = 0, f(x, y) = 10\n",
      "When x = 1 and y = 1, f(x, y) = 5\n",
      "When x = 1 and y = 2, f(x, y) = 0\n",
      "When x = 2 and y = 0, f(x, y) = 12\n",
      "When x = 2 and y = 1, f(x, y) = 6\n",
      "When x = 2 and y = 2, f(x, y) = 0\n"
     ]
    }
   ],
   "source": [
    "x, y = sym.symbols('x, y')\n",
    "\n",
    "expr = (4 + x)*(2 - y)\n",
    "\n",
    "numrange = range(3)\n",
    "\n",
    "for xi in numrange:\n",
    "    for yi in numrange:\n",
    "        print('When x = %g and y = %g, f(x, y) = %g' % (xi, yi, expr.subs({x:xi, y:yi})))\n",
    "        "
   ]
  },
  {
   "cell_type": "code",
   "execution_count": 1,
   "id": "3edf69ce",
   "metadata": {},
   "outputs": [],
   "source": [
    "import numpy as np\n",
    "import sympy as sym\n",
    "from IPython.display import display, Math"
   ]
  },
  {
   "cell_type": "code",
   "execution_count": 4,
   "id": "a5abd9b8",
   "metadata": {},
   "outputs": [
    {
     "data": {
      "text/plain": [
       "array([[1, 2],\n",
       "       [3, 4]])"
      ]
     },
     "execution_count": 4,
     "metadata": {},
     "output_type": "execute_result"
    }
   ],
   "source": [
    "A = np.array([[1, 2], [3, 4]])\n",
    "A"
   ]
  },
  {
   "cell_type": "code",
   "execution_count": 5,
   "id": "9acd7d71",
   "metadata": {},
   "outputs": [
    {
     "data": {
      "text/plain": [
       "numpy.ndarray"
      ]
     },
     "execution_count": 5,
     "metadata": {},
     "output_type": "execute_result"
    }
   ],
   "source": [
    "type(A)"
   ]
  },
  {
   "cell_type": "code",
   "execution_count": 6,
   "id": "f6eea895",
   "metadata": {},
   "outputs": [
    {
     "data": {
      "text/latex": [
       "$\\displaystyle \\left[\\begin{matrix}1 & 2\\\\3 & 4\\end{matrix}\\right]$"
      ],
      "text/plain": [
       "<IPython.core.display.Math object>"
      ]
     },
     "metadata": {},
     "output_type": "display_data"
    }
   ],
   "source": [
    "display(Math(sym.latex(sym.sympify(A))))"
   ]
  },
  {
   "cell_type": "code",
   "execution_count": 8,
   "id": "c4b2de61",
   "metadata": {},
   "outputs": [],
   "source": [
    "mat = np.zeros([4, 6])"
   ]
  },
  {
   "cell_type": "code",
   "execution_count": 14,
   "id": "71751b90",
   "metadata": {},
   "outputs": [],
   "source": [
    "mat[0, 1] = 2\n",
    "mat[2, 4] = 7"
   ]
  },
  {
   "cell_type": "code",
   "execution_count": 15,
   "id": "6899c6d7",
   "metadata": {},
   "outputs": [
    {
     "data": {
      "text/plain": [
       "array([[0., 2., 0., 0., 0., 0.],\n",
       "       [0., 0., 0., 0., 0., 0.],\n",
       "       [0., 0., 0., 0., 7., 0.],\n",
       "       [0., 0., 0., 0., 0., 0.]])"
      ]
     },
     "execution_count": 15,
     "metadata": {},
     "output_type": "execute_result"
    }
   ],
   "source": [
    "mat"
   ]
  },
  {
   "cell_type": "code",
   "execution_count": 16,
   "id": "1778637f",
   "metadata": {},
   "outputs": [
    {
     "data": {
      "text/latex": [
       "$\\displaystyle \\left[\\begin{matrix}0.0 & 2.0 & 0.0 & 0.0 & 0.0 & 0.0\\\\0.0 & 0.0 & 0.0 & 0.0 & 0.0 & 0.0\\\\0.0 & 0.0 & 0.0 & 0.0 & 7.0 & 0.0\\\\0.0 & 0.0 & 0.0 & 0.0 & 0.0 & 0.0\\end{matrix}\\right]$"
      ],
      "text/plain": [
       "<IPython.core.display.Math object>"
      ]
     },
     "metadata": {},
     "output_type": "display_data"
    }
   ],
   "source": [
    "display(Math(sym.latex(sym.sympify(mat))))"
   ]
  },
  {
   "cell_type": "code",
   "execution_count": 19,
   "id": "914c8d7b",
   "metadata": {},
   "outputs": [
    {
     "data": {
      "text/plain": [
       "array([[ 1., -1.,  1., -1.,  0.,  0.],\n",
       "       [-1.,  1., -1.,  1.,  0.,  0.],\n",
       "       [ 1., -1.,  1., -1.,  7.,  0.],\n",
       "       [-1.,  1., -1.,  1.,  0.,  0.]])"
      ]
     },
     "execution_count": 19,
     "metadata": {},
     "output_type": "execute_result"
    }
   ],
   "source": [
    "numrange = range(4)\n",
    "\n",
    "for rowi in numrange:\n",
    "    for coli in numrange:\n",
    "        mat[rowi, coli] = (-1)**(rowi+coli)\n",
    "        \n",
    "mat"
   ]
  },
  {
   "cell_type": "code",
   "execution_count": 31,
   "id": "aef4d3e7",
   "metadata": {},
   "outputs": [
    {
     "data": {
      "text/plain": [
       "array([[0., 0., 0.],\n",
       "       [0., 0., 0.],\n",
       "       [0., 0., 0.]])"
      ]
     },
     "execution_count": 31,
     "metadata": {},
     "output_type": "execute_result"
    }
   ],
   "source": [
    "x, y = sym.symbols('x, y')\n",
    "\n",
    "numrange = range(3)\n",
    "\n",
    "expr = (4 + x)*(2 - y)\n",
    "\n",
    "mat = np.zeros([len(numrange), len(numrange)])\n",
    "mat"
   ]
  },
  {
   "cell_type": "code",
   "execution_count": 32,
   "id": "50c49894",
   "metadata": {},
   "outputs": [],
   "source": [
    "for xi in numrange:\n",
    "    for yi in numrange:\n",
    "        mat[xi, yi] = expr.subs({x:xi, y:yi})"
   ]
  },
  {
   "cell_type": "code",
   "execution_count": 33,
   "id": "b22460ef",
   "metadata": {},
   "outputs": [
    {
     "data": {
      "text/latex": [
       "$\\displaystyle \\left[\\begin{matrix}8.0 & 4.0 & 0.0\\\\10.0 & 5.0 & 0.0\\\\12.0 & 6.0 & 0.0\\end{matrix}\\right]$"
      ],
      "text/plain": [
       "<IPython.core.display.Math object>"
      ]
     },
     "metadata": {},
     "output_type": "display_data"
    }
   ],
   "source": [
    "display(Math(sym.latex(sym.sympify(mat))))"
   ]
  },
  {
   "cell_type": "code",
   "execution_count": 63,
   "id": "7897f942",
   "metadata": {},
   "outputs": [
    {
     "data": {
      "text/plain": [
       "array([[0, 0, 0, 0, 0, 0, 0, 0, 0, 0],\n",
       "       [0, 0, 0, 0, 0, 0, 0, 0, 0, 0],\n",
       "       [0, 0, 0, 0, 0, 0, 0, 0, 0, 0],\n",
       "       [0, 0, 0, 0, 0, 0, 0, 0, 0, 0],\n",
       "       [0, 0, 0, 0, 0, 0, 0, 0, 0, 0],\n",
       "       [0, 0, 0, 0, 0, 0, 0, 0, 0, 0],\n",
       "       [0, 0, 0, 0, 0, 0, 0, 0, 0, 0],\n",
       "       [0, 0, 0, 0, 0, 0, 0, 0, 0, 0],\n",
       "       [0, 0, 0, 0, 0, 0, 0, 0, 0, 0],\n",
       "       [0, 0, 0, 0, 0, 0, 0, 0, 0, 0]])"
      ]
     },
     "execution_count": 63,
     "metadata": {},
     "output_type": "execute_result"
    }
   ],
   "source": [
    "# create a multiplication table\n",
    "x, y = sym.symbols('x y')\n",
    "\n",
    "numrange = range(10)\n",
    "\n",
    "table = np.zeros([len(numrange), len(numrange)], dtype=int)\n",
    "table"
   ]
  },
  {
   "cell_type": "code",
   "execution_count": 64,
   "id": "66aa2eef",
   "metadata": {},
   "outputs": [],
   "source": [
    "for i in numrange:\n",
    "    for j in numrange:\n",
    "        table[i, j] = (i+1)*(j+1)"
   ]
  },
  {
   "cell_type": "code",
   "execution_count": 65,
   "id": "a26fcb30",
   "metadata": {},
   "outputs": [
    {
     "data": {
      "text/latex": [
       "$\\displaystyle \\left[\\begin{matrix}1 & 2 & 3 & 4 & 5 & 6 & 7 & 8 & 9 & 10\\\\2 & 4 & 6 & 8 & 10 & 12 & 14 & 16 & 18 & 20\\\\3 & 6 & 9 & 12 & 15 & 18 & 21 & 24 & 27 & 30\\\\4 & 8 & 12 & 16 & 20 & 24 & 28 & 32 & 36 & 40\\\\5 & 10 & 15 & 20 & 25 & 30 & 35 & 40 & 45 & 50\\\\6 & 12 & 18 & 24 & 30 & 36 & 42 & 48 & 54 & 60\\\\7 & 14 & 21 & 28 & 35 & 42 & 49 & 56 & 63 & 70\\\\8 & 16 & 24 & 32 & 40 & 48 & 56 & 64 & 72 & 80\\\\9 & 18 & 27 & 36 & 45 & 54 & 63 & 72 & 81 & 90\\\\10 & 20 & 30 & 40 & 50 & 60 & 70 & 80 & 90 & 100\\end{matrix}\\right]$"
      ],
      "text/plain": [
       "<IPython.core.display.Math object>"
      ]
     },
     "metadata": {},
     "output_type": "display_data"
    }
   ],
   "source": [
    "display(Math(sym.latex(sym.sympify(table))))"
   ]
  },
  {
   "cell_type": "code",
   "execution_count": 1,
   "id": "99e69c42",
   "metadata": {},
   "outputs": [],
   "source": [
    "import sympy as sym"
   ]
  },
  {
   "cell_type": "code",
   "execution_count": 2,
   "id": "e07a4e2f",
   "metadata": {},
   "outputs": [],
   "source": [
    "x, y = sym.symbols('x y')\n",
    "expr1 = x*(4*y)\n",
    "expr2 = (x*4)*y"
   ]
  },
  {
   "cell_type": "code",
   "execution_count": 4,
   "id": "991e94b7",
   "metadata": {},
   "outputs": [
    {
     "data": {
      "text/latex": [
       "$\\displaystyle \\text{True}$"
      ],
      "text/plain": [
       "True"
      ]
     },
     "execution_count": 4,
     "metadata": {},
     "output_type": "execute_result"
    }
   ],
   "source": [
    "sym.Eq(expr1, expr2)"
   ]
  },
  {
   "cell_type": "code",
   "execution_count": 6,
   "id": "21748c92",
   "metadata": {},
   "outputs": [],
   "source": [
    "e1 = 4*x*y\n",
    "e2 = x*4*y\n",
    "e3 = y*x*4"
   ]
  },
  {
   "cell_type": "code",
   "execution_count": 7,
   "id": "700af478",
   "metadata": {},
   "outputs": [
    {
     "data": {
      "text/latex": [
       "$\\displaystyle 24$"
      ],
      "text/plain": [
       "24"
      ]
     },
     "execution_count": 7,
     "metadata": {},
     "output_type": "execute_result"
    }
   ],
   "source": [
    "e1.subs({x:3, y:2})"
   ]
  },
  {
   "cell_type": "code",
   "execution_count": 8,
   "id": "e471ec4f",
   "metadata": {},
   "outputs": [
    {
     "data": {
      "text/latex": [
       "$\\displaystyle 24$"
      ],
      "text/plain": [
       "24"
      ]
     },
     "execution_count": 8,
     "metadata": {},
     "output_type": "execute_result"
    }
   ],
   "source": [
    "e2.subs({x:3, y:2})"
   ]
  },
  {
   "cell_type": "code",
   "execution_count": 9,
   "id": "bc5edb07",
   "metadata": {},
   "outputs": [
    {
     "data": {
      "text/latex": [
       "$\\displaystyle 24$"
      ],
      "text/plain": [
       "24"
      ]
     },
     "execution_count": 9,
     "metadata": {},
     "output_type": "execute_result"
    }
   ],
   "source": [
    "e3.subs({x:3, y:2})"
   ]
  },
  {
   "cell_type": "code",
   "execution_count": 10,
   "id": "10f91806",
   "metadata": {},
   "outputs": [],
   "source": [
    "a, b, c, d = sym.symbols('a b c d')\n",
    "expr = (a+b)*(c+d)"
   ]
  },
  {
   "cell_type": "code",
   "execution_count": 11,
   "id": "dbe77c7d",
   "metadata": {},
   "outputs": [
    {
     "data": {
      "text/latex": [
       "$\\displaystyle a c + a d + b c + b d$"
      ],
      "text/plain": [
       "a*c + a*d + b*c + b*d"
      ]
     },
     "execution_count": 11,
     "metadata": {},
     "output_type": "execute_result"
    }
   ],
   "source": [
    "sym.expand(expr)"
   ]
  },
  {
   "cell_type": "code",
   "execution_count": 12,
   "id": "77468dfd",
   "metadata": {},
   "outputs": [],
   "source": [
    "x, y, z, w = sym.symbols('x, y, z, w')"
   ]
  },
  {
   "cell_type": "code",
   "execution_count": 21,
   "id": "344a6a00",
   "metadata": {},
   "outputs": [],
   "source": [
    "x = w*(4-w)+1/w**2\n",
    "f1 = x*(y+z)\n",
    "f2 = 3/x + x**2\n"
   ]
  },
  {
   "cell_type": "code",
   "execution_count": 22,
   "id": "a17fe2ab",
   "metadata": {},
   "outputs": [
    {
     "data": {
      "text/latex": [
       "$\\displaystyle - w^{2} y - w^{2} z + 4 w y + 4 w z + \\frac{y}{w^{2}} + \\frac{z}{w^{2}}$"
      ],
      "text/plain": [
       "-w**2*y - w**2*z + 4*w*y + 4*w*z + y/w**2 + z/w**2"
      ]
     },
     "execution_count": 22,
     "metadata": {},
     "output_type": "execute_result"
    }
   ],
   "source": [
    "sym.expand(f1)"
   ]
  },
  {
   "cell_type": "code",
   "execution_count": 23,
   "id": "d96a176c",
   "metadata": {},
   "outputs": [
    {
     "data": {
      "text/latex": [
       "$\\displaystyle w^{4} - 8 w^{3} + 16 w^{2} - 2 + \\frac{3}{- w^{2} + 4 w + \\frac{1}{w^{2}}} + \\frac{8}{w} + \\frac{1}{w^{4}}$"
      ],
      "text/plain": [
       "w**4 - 8*w**3 + 16*w**2 - 2 + 3/(-w**2 + 4*w + w**(-2)) + 8/w + w**(-4)"
      ]
     },
     "execution_count": 23,
     "metadata": {},
     "output_type": "execute_result"
    }
   ],
   "source": [
    "sym.expand(f2)"
   ]
  },
  {
   "cell_type": "code",
   "execution_count": 24,
   "id": "f8205eb2",
   "metadata": {},
   "outputs": [
    {
     "data": {
      "text/latex": [
       "$\\displaystyle - w^{2} + 4 w + \\frac{1}{w^{2}}$"
      ],
      "text/plain": [
       "-w**2 + 4*w + w**(-2)"
      ]
     },
     "execution_count": 24,
     "metadata": {},
     "output_type": "execute_result"
    }
   ],
   "source": [
    "sym.expand(x)"
   ]
  },
  {
   "cell_type": "code",
   "execution_count": 25,
   "id": "ee8fd16c",
   "metadata": {},
   "outputs": [
    {
     "data": {
      "text/latex": [
       "$\\displaystyle \\frac{w^{3} \\cdot \\left(4 - w\\right) + 1}{w^{2}}$"
      ],
      "text/plain": [
       "(w**3*(4 - w) + 1)/w**2"
      ]
     },
     "execution_count": 25,
     "metadata": {},
     "output_type": "execute_result"
    }
   ],
   "source": [
    "sym.simplify(x)"
   ]
  },
  {
   "cell_type": "code",
   "execution_count": 26,
   "id": "4fdf2d35",
   "metadata": {},
   "outputs": [
    {
     "data": {
      "text/latex": [
       "$\\displaystyle \\left(y + z\\right) \\left(w \\left(4 - w\\right) + \\frac{1}{w^{2}}\\right) \\left(\\left(w \\left(4 - w\\right) + \\frac{1}{w^{2}}\\right)^{2} + \\frac{3}{w \\left(4 - w\\right) + \\frac{1}{w^{2}}}\\right)$"
      ],
      "text/plain": [
       "(y + z)*(w*(4 - w) + w**(-2))*((w*(4 - w) + w**(-2))**2 + 3/(w*(4 - w) + w**(-2)))"
      ]
     },
     "execution_count": 26,
     "metadata": {},
     "output_type": "execute_result"
    }
   ],
   "source": [
    "f1*f2"
   ]
  },
  {
   "cell_type": "code",
   "execution_count": 27,
   "id": "c3afcbe4",
   "metadata": {},
   "outputs": [
    {
     "data": {
      "text/latex": [
       "$\\displaystyle \\frac{\\left(3 w^{6} - \\left(w^{3} \\left(w - 4\\right) - 1\\right)^{3}\\right) \\left(y + z\\right)}{w^{6}}$"
      ],
      "text/plain": [
       "(3*w**6 - (w**3*(w - 4) - 1)**3)*(y + z)/w**6"
      ]
     },
     "execution_count": 27,
     "metadata": {},
     "output_type": "execute_result"
    }
   ],
   "source": [
    "sym.simplify(f1*f2)"
   ]
  },
  {
   "cell_type": "code",
   "execution_count": 28,
   "id": "6e9e7a61",
   "metadata": {},
   "outputs": [
    {
     "data": {
      "text/latex": [
       "$\\displaystyle - w^{6} y - w^{6} z + 12 w^{5} y + 12 w^{5} z - 48 w^{4} y - 48 w^{4} z + 64 w^{3} y + 64 w^{3} z + 3 w^{2} y - \\frac{3 w^{2} y}{- w^{2} + 4 w + \\frac{1}{w^{2}}} + 3 w^{2} z - \\frac{3 w^{2} z}{- w^{2} + 4 w + \\frac{1}{w^{2}}} - 24 w y + \\frac{12 w y}{- w^{2} + 4 w + \\frac{1}{w^{2}}} - 24 w z + \\frac{12 w z}{- w^{2} + 4 w + \\frac{1}{w^{2}}} + 48 y + \\frac{3 y}{- w^{4} + 4 w^{3} + 1} + 48 z + \\frac{3 z}{- w^{4} + 4 w^{3} + 1} - \\frac{3 y}{w^{2}} - \\frac{3 z}{w^{2}} + \\frac{12 y}{w^{3}} + \\frac{12 z}{w^{3}} + \\frac{y}{w^{6}} + \\frac{z}{w^{6}}$"
      ],
      "text/plain": [
       "-w**6*y - w**6*z + 12*w**5*y + 12*w**5*z - 48*w**4*y - 48*w**4*z + 64*w**3*y + 64*w**3*z + 3*w**2*y - 3*w**2*y/(-w**2 + 4*w + w**(-2)) + 3*w**2*z - 3*w**2*z/(-w**2 + 4*w + w**(-2)) - 24*w*y + 12*w*y/(-w**2 + 4*w + w**(-2)) - 24*w*z + 12*w*z/(-w**2 + 4*w + w**(-2)) + 48*y + 3*y/(-w**4 + 4*w**3 + 1) + 48*z + 3*z/(-w**4 + 4*w**3 + 1) - 3*y/w**2 - 3*z/w**2 + 12*y/w**3 + 12*z/w**3 + y/w**6 + z/w**6"
      ]
     },
     "execution_count": 28,
     "metadata": {},
     "output_type": "execute_result"
    }
   ],
   "source": [
    "sym.expand(f1*f2)"
   ]
  },
  {
   "cell_type": "code",
   "execution_count": 30,
   "id": "446d730f",
   "metadata": {},
   "outputs": [
    {
     "data": {
      "text/latex": [
       "$\\displaystyle 0$"
      ],
      "text/plain": [
       "0"
      ]
     },
     "execution_count": 30,
     "metadata": {},
     "output_type": "execute_result"
    }
   ],
   "source": [
    "f2*f1 - f1*f2"
   ]
  },
  {
   "cell_type": "code",
   "execution_count": 10,
   "id": "3d9b7193",
   "metadata": {},
   "outputs": [],
   "source": [
    "lst = [1, 3, 6, 7, 4, 5, 6, 1, 3, 5, 6, 4, 0]"
   ]
  },
  {
   "cell_type": "code",
   "execution_count": 3,
   "id": "874f4eba",
   "metadata": {},
   "outputs": [
    {
     "data": {
      "text/plain": [
       "[1, 3, 6, 7]"
      ]
     },
     "execution_count": 3,
     "metadata": {},
     "output_type": "execute_result"
    }
   ],
   "source": [
    "lst"
   ]
  },
  {
   "cell_type": "code",
   "execution_count": 4,
   "id": "4ad65bc8",
   "metadata": {},
   "outputs": [
    {
     "data": {
      "text/plain": [
       "list"
      ]
     },
     "execution_count": 4,
     "metadata": {},
     "output_type": "execute_result"
    }
   ],
   "source": [
    "type(lst)"
   ]
  },
  {
   "cell_type": "code",
   "execution_count": 6,
   "id": "444be571",
   "metadata": {},
   "outputs": [
    {
     "data": {
      "text/plain": [
       "7"
      ]
     },
     "execution_count": 6,
     "metadata": {},
     "output_type": "execute_result"
    }
   ],
   "source": [
    "lst[-1]"
   ]
  },
  {
   "cell_type": "code",
   "execution_count": 8,
   "id": "1fcdab98",
   "metadata": {},
   "outputs": [
    {
     "data": {
      "text/plain": [
       "[1, 3]"
      ]
     },
     "execution_count": 8,
     "metadata": {},
     "output_type": "execute_result"
    }
   ],
   "source": [
    "lst[:2]"
   ]
  },
  {
   "cell_type": "code",
   "execution_count": 9,
   "id": "7196ef1a",
   "metadata": {},
   "outputs": [
    {
     "data": {
      "text/plain": [
       "[6, 7]"
      ]
     },
     "execution_count": 9,
     "metadata": {},
     "output_type": "execute_result"
    }
   ],
   "source": [
    "lst[2:]"
   ]
  },
  {
   "cell_type": "code",
   "execution_count": 11,
   "id": "3c1f11b8",
   "metadata": {},
   "outputs": [
    {
     "name": "stdout",
     "output_type": "stream",
     "text": [
      "[1, 3, 6, 7, 4, 5, 6, 1, 3, 5, 6, 4, 0]\n"
     ]
    },
    {
     "data": {
      "text/plain": [
       "[7, 4, 5, 6]"
      ]
     },
     "execution_count": 11,
     "metadata": {},
     "output_type": "execute_result"
    }
   ],
   "source": [
    "n = 3\n",
    "k = 7\n",
    "\n",
    "print(lst)\n",
    "lst[n:k]"
   ]
  },
  {
   "cell_type": "code",
   "execution_count": 12,
   "id": "b4946ea0",
   "metadata": {},
   "outputs": [],
   "source": [
    "words = ['hello', 'my', 'name', 'is', 'Mike']"
   ]
  },
  {
   "cell_type": "code",
   "execution_count": 13,
   "id": "8d37d2d0",
   "metadata": {},
   "outputs": [
    {
     "name": "stdout",
     "output_type": "stream",
     "text": [
      "hello\n",
      "my\n",
      "name\n",
      "is\n",
      "Mike\n"
     ]
    }
   ],
   "source": [
    "for i in words:\n",
    "    print(i)"
   ]
  },
  {
   "cell_type": "code",
   "execution_count": 15,
   "id": "e651a181",
   "metadata": {},
   "outputs": [
    {
     "name": "stdout",
     "output_type": "stream",
     "text": [
      "1\n",
      "2\n",
      "cookies\n",
      "[6, 4]\n"
     ]
    }
   ],
   "source": [
    "alist = [1, 2, 'cookies', [6, 4]]\n",
    "\n",
    "for i in alist:\n",
    "    print(i)"
   ]
  },
  {
   "cell_type": "code",
   "execution_count": 16,
   "id": "1caf6047",
   "metadata": {},
   "outputs": [
    {
     "data": {
      "text/plain": [
       "[6, 4]"
      ]
     },
     "execution_count": 16,
     "metadata": {},
     "output_type": "execute_result"
    }
   ],
   "source": [
    "alist[-1]"
   ]
  },
  {
   "cell_type": "code",
   "execution_count": 17,
   "id": "65ceca54",
   "metadata": {},
   "outputs": [
    {
     "data": {
      "text/plain": [
       "6"
      ]
     },
     "execution_count": 17,
     "metadata": {},
     "output_type": "execute_result"
    }
   ],
   "source": [
    "alist[-1][0]"
   ]
  },
  {
   "cell_type": "code",
   "execution_count": 18,
   "id": "6ddd2cdb",
   "metadata": {},
   "outputs": [],
   "source": [
    "import sympy as sym\n",
    "from IPython.display import display, Math"
   ]
  },
  {
   "cell_type": "code",
   "execution_count": 19,
   "id": "59eda95d",
   "metadata": {},
   "outputs": [],
   "source": [
    "x = sym.symbols('x')"
   ]
  },
  {
   "cell_type": "code",
   "execution_count": 20,
   "id": "5e5dcd8f",
   "metadata": {},
   "outputs": [],
   "source": [
    "e1 = 2*x + x*(4-6*x) + x\n",
    "e2 = -x*(2/x+4/x**2) + (4+x)/(4*x)\n",
    "e3 = (x+3)*(x-3)*x*(1/(9*x))"
   ]
  },
  {
   "cell_type": "code",
   "execution_count": 27,
   "id": "6744cf3b",
   "metadata": {},
   "outputs": [
    {
     "data": {
      "text/latex": [
       "$\\displaystyle x \\left(4 - 6 x\\right) + 3 x$"
      ],
      "text/plain": [
       "<IPython.core.display.Math object>"
      ]
     },
     "metadata": {},
     "output_type": "display_data"
    },
    {
     "data": {
      "text/latex": [
       "$\\displaystyle - x \\left(\\frac{2}{x} + \\frac{4}{x^{2}}\\right) + \\frac{x + 4}{4 x}$"
      ],
      "text/plain": [
       "<IPython.core.display.Math object>"
      ]
     },
     "metadata": {},
     "output_type": "display_data"
    },
    {
     "data": {
      "text/latex": [
       "$\\displaystyle \\frac{\\left(x - 3\\right) \\left(x + 3\\right)}{9}$"
      ],
      "text/plain": [
       "<IPython.core.display.Math object>"
      ]
     },
     "metadata": {},
     "output_type": "display_data"
    }
   ],
   "source": [
    "elist = [e1, e2, e3]\n",
    "for exp in elist:\n",
    "    display(Math(sym.latex(exp)))"
   ]
  },
  {
   "cell_type": "code",
   "execution_count": 25,
   "id": "fc79f06a",
   "metadata": {},
   "outputs": [
    {
     "data": {
      "text/latex": [
       "$\\displaystyle - 6 x^{2} + 7 x$"
      ],
      "text/plain": [
       "<IPython.core.display.Math object>"
      ]
     },
     "metadata": {},
     "output_type": "display_data"
    },
    {
     "data": {
      "text/latex": [
       "$\\displaystyle - \\frac{7}{4} - \\frac{3}{x}$"
      ],
      "text/plain": [
       "<IPython.core.display.Math object>"
      ]
     },
     "metadata": {},
     "output_type": "display_data"
    },
    {
     "data": {
      "text/latex": [
       "$\\displaystyle \\frac{x^{2}}{9} - 1$"
      ],
      "text/plain": [
       "<IPython.core.display.Math object>"
      ]
     },
     "metadata": {},
     "output_type": "display_data"
    }
   ],
   "source": [
    "for expr in elist:\n",
    "    #display(Math(sym.latex(sym.simplify(expr))))\n",
    "    display(Math(sym.latex(sym.expand(expr))))"
   ]
  },
  {
   "cell_type": "code",
   "execution_count": 29,
   "id": "d4a99d70",
   "metadata": {},
   "outputs": [],
   "source": [
    "vec = list(range(10, 21))"
   ]
  },
  {
   "cell_type": "code",
   "execution_count": null,
   "id": "7f9ad18c",
   "metadata": {},
   "outputs": [],
   "source": [
    "vec"
   ]
  },
  {
   "cell_type": "code",
   "execution_count": null,
   "id": "4660ce27",
   "metadata": {},
   "outputs": [],
   "source": []
  }
 ],
 "metadata": {
  "kernelspec": {
   "display_name": "Python 3 (ipykernel)",
   "language": "python",
   "name": "python3"
  },
  "language_info": {
   "codemirror_mode": {
    "name": "ipython",
    "version": 3
   },
   "file_extension": ".py",
   "mimetype": "text/x-python",
   "name": "python",
   "nbconvert_exporter": "python",
   "pygments_lexer": "ipython3",
   "version": "3.9.13"
  }
 },
 "nbformat": 4,
 "nbformat_minor": 5
}
