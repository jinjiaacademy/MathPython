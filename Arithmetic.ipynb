{
 "cells": [
  {
   "cell_type": "code",
   "execution_count": 2,
   "id": "44ee471e",
   "metadata": {},
   "outputs": [
    {
     "data": {
      "text/plain": [
       "12"
      ]
     },
     "execution_count": 2,
     "metadata": {},
     "output_type": "execute_result"
    }
   ],
   "source": [
    "4 + 8"
   ]
  },
  {
   "cell_type": "code",
   "execution_count": 3,
   "id": "079107fa",
   "metadata": {},
   "outputs": [
    {
     "data": {
      "text/plain": [
       "10"
      ]
     },
     "execution_count": 3,
     "metadata": {},
     "output_type": "execute_result"
    }
   ],
   "source": [
    "4 + 1 + 5"
   ]
  },
  {
   "cell_type": "code",
   "execution_count": 4,
   "id": "6b5a6ffd",
   "metadata": {},
   "outputs": [
    {
     "data": {
      "text/plain": [
       "2"
      ]
     },
     "execution_count": 4,
     "metadata": {},
     "output_type": "execute_result"
    }
   ],
   "source": [
    "5 - 3"
   ]
  },
  {
   "cell_type": "code",
   "execution_count": 7,
   "id": "6f16a94a",
   "metadata": {},
   "outputs": [
    {
     "data": {
      "text/plain": [
       "5"
      ]
     },
     "execution_count": 7,
     "metadata": {},
     "output_type": "execute_result"
    }
   ],
   "source": [
    "3 * 3 + 1 - 5"
   ]
  },
  {
   "cell_type": "code",
   "execution_count": 9,
   "id": "eda2dde8",
   "metadata": {},
   "outputs": [
    {
     "data": {
      "text/plain": [
       "1.0"
      ]
     },
     "execution_count": 9,
     "metadata": {},
     "output_type": "execute_result"
    }
   ],
   "source": [
    "(1 + 3) / 4"
   ]
  },
  {
   "cell_type": "code",
   "execution_count": 10,
   "id": "9bd6fb11",
   "metadata": {},
   "outputs": [
    {
     "data": {
      "text/plain": [
       "4.7"
      ]
     },
     "execution_count": 10,
     "metadata": {},
     "output_type": "execute_result"
    }
   ],
   "source": [
    "5 - (2/4)*(3/5)"
   ]
  },
  {
   "cell_type": "code",
   "execution_count": 11,
   "id": "dadd01e5",
   "metadata": {},
   "outputs": [
    {
     "data": {
      "text/plain": [
       "-0.030303030303030304"
      ]
     },
     "execution_count": 11,
     "metadata": {},
     "output_type": "execute_result"
    }
   ],
   "source": [
    "(4-5)/(3+5*6)"
   ]
  },
  {
   "cell_type": "code",
   "execution_count": 12,
   "id": "69810eab",
   "metadata": {},
   "outputs": [
    {
     "data": {
      "text/plain": [
       "9"
      ]
     },
     "execution_count": 12,
     "metadata": {},
     "output_type": "execute_result"
    }
   ],
   "source": [
    "x = 4\n",
    "x + 5"
   ]
  },
  {
   "cell_type": "code",
   "execution_count": 13,
   "id": "4242acab",
   "metadata": {},
   "outputs": [
    {
     "data": {
      "text/plain": [
       "2.0"
      ]
     },
     "execution_count": 13,
     "metadata": {},
     "output_type": "execute_result"
    }
   ],
   "source": [
    "x / 2"
   ]
  },
  {
   "cell_type": "code",
   "execution_count": 15,
   "id": "c50262df",
   "metadata": {},
   "outputs": [
    {
     "data": {
      "text/plain": [
       "7"
      ]
     },
     "execution_count": 15,
     "metadata": {},
     "output_type": "execute_result"
    }
   ],
   "source": [
    "x = 7\n",
    "x"
   ]
  },
  {
   "cell_type": "code",
   "execution_count": 16,
   "id": "1f117c1e",
   "metadata": {},
   "outputs": [
    {
     "data": {
      "text/plain": [
       "5"
      ]
     },
     "execution_count": 16,
     "metadata": {},
     "output_type": "execute_result"
    }
   ],
   "source": [
    "x - 2"
   ]
  },
  {
   "cell_type": "code",
   "execution_count": 17,
   "id": "02b8b3fa",
   "metadata": {},
   "outputs": [
    {
     "data": {
      "text/plain": [
       "10"
      ]
     },
     "execution_count": 17,
     "metadata": {},
     "output_type": "execute_result"
    }
   ],
   "source": [
    "x = 10\n",
    "x"
   ]
  },
  {
   "cell_type": "code",
   "execution_count": 21,
   "id": "28644525",
   "metadata": {},
   "outputs": [
    {
     "data": {
      "text/plain": [
       "-30"
      ]
     },
     "execution_count": 21,
     "metadata": {},
     "output_type": "execute_result"
    }
   ],
   "source": [
    "x = x - 2*5\n",
    "x"
   ]
  },
  {
   "cell_type": "code",
   "execution_count": 25,
   "id": "fc16a625",
   "metadata": {},
   "outputs": [
    {
     "data": {
      "text/plain": [
       "-610"
      ]
     },
     "execution_count": 25,
     "metadata": {},
     "output_type": "execute_result"
    }
   ],
   "source": [
    "x = 10\n",
    "y = 20\n",
    "z = 31\n",
    "\n",
    "x + y * z\n",
    "x - y * z"
   ]
  },
  {
   "cell_type": "code",
   "execution_count": 24,
   "id": "fbabd53e",
   "metadata": {},
   "outputs": [
    {
     "data": {
      "text/plain": [
       "44"
      ]
     },
     "execution_count": 24,
     "metadata": {},
     "output_type": "execute_result"
    }
   ],
   "source": [
    "mike = 10\n",
    "spike = 34\n",
    "\n",
    "mike + spike"
   ]
  },
  {
   "cell_type": "code",
   "execution_count": 26,
   "id": "949b0b67",
   "metadata": {},
   "outputs": [],
   "source": [
    "x = 7\n",
    "y = -2\n",
    "z = 5"
   ]
  },
  {
   "cell_type": "code",
   "execution_count": 27,
   "id": "e8e2e2d6",
   "metadata": {},
   "outputs": [
    {
     "data": {
      "text/plain": [
       "42"
      ]
     },
     "execution_count": 27,
     "metadata": {},
     "output_type": "execute_result"
    }
   ],
   "source": [
    "3 * x * (4 + y)"
   ]
  },
  {
   "cell_type": "code",
   "execution_count": 28,
   "id": "c587c168",
   "metadata": {},
   "outputs": [
    {
     "data": {
      "text/plain": [
       "0.0"
      ]
     },
     "execution_count": 28,
     "metadata": {},
     "output_type": "execute_result"
    }
   ],
   "source": [
    "-y-(x+3)/z"
   ]
  },
  {
   "cell_type": "code",
   "execution_count": 35,
   "id": "47083ee9",
   "metadata": {},
   "outputs": [
    {
     "data": {
      "text/plain": [
       "'4 + 3 = 7'"
      ]
     },
     "metadata": {},
     "output_type": "display_data"
    },
    {
     "data": {
      "text/plain": [
       "'4 + 3 = 7'"
      ]
     },
     "metadata": {},
     "output_type": "display_data"
    }
   ],
   "source": [
    "from IPython.display import display, Math\n",
    "\n",
    "display( '4 + 3 = 7')\n",
    "display( '4 + 3 = ' + str(4+3))"
   ]
  },
  {
   "cell_type": "code",
   "execution_count": 36,
   "id": "da2673b2",
   "metadata": {},
   "outputs": [
    {
     "data": {
      "text/latex": [
       "$\\displaystyle 4 + 3 = 7$"
      ],
      "text/plain": [
       "<IPython.core.display.Math object>"
      ]
     },
     "metadata": {},
     "output_type": "display_data"
    }
   ],
   "source": [
    "display(Math('4 + 3 = 7'))"
   ]
  },
  {
   "cell_type": "code",
   "execution_count": 46,
   "id": "d5b920b2",
   "metadata": {},
   "outputs": [
    {
     "data": {
      "text/latex": [
       "$\\displaystyle 4 + 5 = 9$"
      ],
      "text/plain": [
       "<IPython.core.display.Math object>"
      ]
     },
     "metadata": {},
     "output_type": "display_data"
    }
   ],
   "source": [
    "x = 4\n",
    "y = 5\n",
    "\n",
    "display(Math(str(x)+ ' + ' + str(y) + ' = ' + str(x+y)))"
   ]
  },
  {
   "cell_type": "code",
   "execution_count": 47,
   "id": "5bb4289a",
   "metadata": {},
   "outputs": [
    {
     "data": {
      "text/latex": [
       "$\\displaystyle 4+5 = 9$"
      ],
      "text/plain": [
       "<IPython.core.display.Math object>"
      ]
     },
     "metadata": {},
     "output_type": "display_data"
    }
   ],
   "source": [
    "display(Math('%g+%g = %g' % (x, y, x+y)))"
   ]
  },
  {
   "cell_type": "code",
   "execution_count": 48,
   "id": "45a62bce",
   "metadata": {},
   "outputs": [
    {
     "data": {
      "text/latex": [
       "$\\displaystyle 4 + 5 = 9$"
      ],
      "text/plain": [
       "<IPython.core.display.Math object>"
      ]
     },
     "metadata": {},
     "output_type": "display_data"
    }
   ],
   "source": [
    "display(Math(f\"{x} + {y} = {x + y}\"))"
   ]
  },
  {
   "cell_type": "code",
   "execution_count": 55,
   "id": "be889c21",
   "metadata": {},
   "outputs": [
    {
     "data": {
      "text/latex": [
       "$\\displaystyle 4 / 5 = .8$"
      ],
      "text/plain": [
       "<IPython.core.display.Math object>"
      ]
     },
     "metadata": {},
     "output_type": "display_data"
    },
    {
     "data": {
      "text/latex": [
       "$\\displaystyle \\frac{4}{5}=.8$"
      ],
      "text/plain": [
       "<IPython.core.display.Math object>"
      ]
     },
     "metadata": {},
     "output_type": "display_data"
    }
   ],
   "source": [
    "display(Math('4 / 5 = .8'))\n",
    "display(Math('\\\\frac{4}{5}=.8'))"
   ]
  },
  {
   "cell_type": "code",
   "execution_count": 53,
   "id": "77ccb148",
   "metadata": {},
   "outputs": [
    {
     "data": {
      "text/latex": [
       "$\\displaystyle 3.4 \\times 17 = 57.8$"
      ],
      "text/plain": [
       "<IPython.core.display.Math object>"
      ]
     },
     "metadata": {},
     "output_type": "display_data"
    }
   ],
   "source": [
    "x = 3.4\n",
    "y = 17\n",
    "\n",
    "display(Math(f\"{x} \\\\times {y} = {x*y}\"))"
   ]
  },
  {
   "cell_type": "code",
   "execution_count": 57,
   "id": "1b47d0fb",
   "metadata": {},
   "outputs": [
    {
     "data": {
      "text/latex": [
       "$\\displaystyle 3x(4 + y) = 42$"
      ],
      "text/plain": [
       "<IPython.core.display.Math object>"
      ]
     },
     "metadata": {},
     "output_type": "display_data"
    }
   ],
   "source": [
    "x = 7\n",
    "y = -2\n",
    "z = 5\n",
    "\n",
    "display(Math(f\"3x(4 + y) = {3*x*(4 + y)}\"))"
   ]
  },
  {
   "cell_type": "code",
   "execution_count": 69,
   "id": "9d2661c7",
   "metadata": {},
   "outputs": [
    {
     "data": {
      "text/latex": [
       "$\\displaystyle -y-\\frac{(x+3)}{z} = 0$"
      ],
      "text/plain": [
       "<IPython.core.display.Math object>"
      ]
     },
     "metadata": {},
     "output_type": "display_data"
    }
   ],
   "source": [
    "ans = -y-(x+3)/z\n",
    "display(Math(\"-y-\\\\frac{(x+3)}{z} = %g\" %ans))\n"
   ]
  },
  {
   "cell_type": "code",
   "execution_count": 71,
   "id": "e961e6be",
   "metadata": {},
   "outputs": [
    {
     "data": {
      "text/plain": [
       "5"
      ]
     },
     "execution_count": 71,
     "metadata": {},
     "output_type": "execute_result"
    }
   ],
   "source": [
    "# y = 3\n",
    "x = 5\n",
    "\n",
    "x"
   ]
  },
  {
   "cell_type": "code",
   "execution_count": 72,
   "id": "9a21774e",
   "metadata": {},
   "outputs": [],
   "source": [
    "# this is where the variables are defined"
   ]
  },
  {
   "cell_type": "code",
   "execution_count": 73,
   "id": "be1d0c2d",
   "metadata": {},
   "outputs": [
    {
     "data": {
      "text/plain": [
       "9"
      ]
     },
     "execution_count": 73,
     "metadata": {},
     "output_type": "execute_result"
    }
   ],
   "source": [
    "3 ** 2"
   ]
  },
  {
   "cell_type": "code",
   "execution_count": 75,
   "id": "4fd02e6f",
   "metadata": {},
   "outputs": [
    {
     "data": {
      "text/plain": [
       "1"
      ]
     },
     "execution_count": 75,
     "metadata": {},
     "output_type": "execute_result"
    }
   ],
   "source": [
    "3 ^ 2"
   ]
  },
  {
   "cell_type": "code",
   "execution_count": 77,
   "id": "a1212f6c",
   "metadata": {},
   "outputs": [
    {
     "data": {
      "text/plain": [
       "729"
      ]
     },
     "execution_count": 77,
     "metadata": {},
     "output_type": "execute_result"
    }
   ],
   "source": [
    "x = 6\n",
    "3 ** x"
   ]
  },
  {
   "cell_type": "code",
   "execution_count": 78,
   "id": "26567593",
   "metadata": {},
   "outputs": [
    {
     "data": {
      "text/plain": [
       "27"
      ]
     },
     "execution_count": 78,
     "metadata": {},
     "output_type": "execute_result"
    }
   ],
   "source": [
    "3**3"
   ]
  },
  {
   "cell_type": "code",
   "execution_count": 79,
   "id": "30e696e3",
   "metadata": {},
   "outputs": [
    {
     "data": {
      "text/plain": [
       "27"
      ]
     },
     "execution_count": 79,
     "metadata": {},
     "output_type": "execute_result"
    }
   ],
   "source": [
    "3*3*3"
   ]
  },
  {
   "cell_type": "code",
   "execution_count": 80,
   "id": "7ee94821",
   "metadata": {},
   "outputs": [
    {
     "name": "stdout",
     "output_type": "stream",
     "text": [
      "729\n"
     ]
    }
   ],
   "source": [
    "print(3**2 * 3**4)"
   ]
  },
  {
   "cell_type": "code",
   "execution_count": 82,
   "id": "ad2c1bb1",
   "metadata": {},
   "outputs": [
    {
     "name": "stdout",
     "output_type": "stream",
     "text": [
      "729\n"
     ]
    }
   ],
   "source": [
    "print(3**(2+4))"
   ]
  },
  {
   "cell_type": "code",
   "execution_count": 83,
   "id": "e86cd2e9",
   "metadata": {},
   "outputs": [
    {
     "data": {
      "text/plain": [
       "3.0"
      ]
     },
     "execution_count": 83,
     "metadata": {},
     "output_type": "execute_result"
    }
   ],
   "source": [
    "9 ** (1/2)"
   ]
  },
  {
   "cell_type": "code",
   "execution_count": 84,
   "id": "34bf0549",
   "metadata": {},
   "outputs": [
    {
     "data": {
      "text/latex": [
       "$\\displaystyle 1 + 2 = 3$"
      ],
      "text/plain": [
       "<IPython.core.display.Math object>"
      ]
     },
     "metadata": {},
     "output_type": "display_data"
    }
   ],
   "source": [
    "display(Math('1 + 2 = 3'))"
   ]
  },
  {
   "cell_type": "code",
   "execution_count": 96,
   "id": "6a2c9dd8",
   "metadata": {},
   "outputs": [
    {
     "data": {
      "text/latex": [
       "$\\displaystyle 3^2 \\times 3^4 = 3^{2+4}$"
      ],
      "text/plain": [
       "<IPython.core.display.Math object>"
      ]
     },
     "metadata": {},
     "output_type": "display_data"
    }
   ],
   "source": [
    "display(Math('3^2 \\\\times 3^4 = 3^{2+4}'))"
   ]
  },
  {
   "cell_type": "code",
   "execution_count": 97,
   "id": "a27efc6b",
   "metadata": {},
   "outputs": [],
   "source": [
    "x = 5\n",
    "y = 5.1"
   ]
  },
  {
   "cell_type": "code",
   "execution_count": 122,
   "id": "a0464bcd",
   "metadata": {},
   "outputs": [
    {
     "data": {
      "text/latex": [
       "$\\displaystyle x^{3/4} \\times 4^y = 3933.09$"
      ],
      "text/plain": [
       "<IPython.core.display.Math object>"
      ]
     },
     "metadata": {},
     "output_type": "display_data"
    }
   ],
   "source": [
    "ans = x**(3/4)*4**y\n",
    "display(Math('x^{3/4} \\\\times 4^y = %g' %ans))"
   ]
  },
  {
   "cell_type": "code",
   "execution_count": 117,
   "id": "b1ca2f36",
   "metadata": {},
   "outputs": [
    {
     "data": {
      "text/latex": [
       "$\\displaystyle \\frac {3^3}  {x^y} = 0.00735558$"
      ],
      "text/plain": [
       "<IPython.core.display.Math object>"
      ]
     },
     "metadata": {},
     "output_type": "display_data"
    }
   ],
   "source": [
    "ans = 3**3 / x**y\n",
    "display(Math('\\\\frac {3^3}  {x^y} = %g' %ans))"
   ]
  },
  {
   "cell_type": "code",
   "execution_count": 121,
   "id": "4b9a61b3",
   "metadata": {},
   "outputs": [
    {
     "data": {
      "text/latex": [
       "$\\displaystyle 10^{x-4} = 10$"
      ],
      "text/plain": [
       "<IPython.core.display.Math object>"
      ]
     },
     "metadata": {},
     "output_type": "display_data"
    }
   ],
   "source": [
    "ans = 10**(x-4)\n",
    "display(Math('10^{x-4} = %g' %ans))"
   ]
  },
  {
   "cell_type": "code",
   "execution_count": 1,
   "id": "2356b4cc",
   "metadata": {},
   "outputs": [],
   "source": [
    "from IPython.display import display, Math"
   ]
  },
  {
   "cell_type": "code",
   "execution_count": 3,
   "id": "d92ff298",
   "metadata": {},
   "outputs": [
    {
     "name": "stdout",
     "output_type": "stream",
     "text": [
      "0\n",
      "2\n",
      "4\n",
      "6\n"
     ]
    }
   ],
   "source": [
    "for i in [0, 1, 2, 3]:\n",
    "    print(i*2)"
   ]
  },
  {
   "cell_type": "code",
   "execution_count": 6,
   "id": "45bf76ab",
   "metadata": {},
   "outputs": [
    {
     "data": {
      "text/plain": [
       "[0, 1, 2]"
      ]
     },
     "execution_count": 6,
     "metadata": {},
     "output_type": "execute_result"
    }
   ],
   "source": [
    "list(range(0, 3))"
   ]
  },
  {
   "cell_type": "code",
   "execution_count": 8,
   "id": "4dfdd8c5",
   "metadata": {},
   "outputs": [
    {
     "name": "stdout",
     "output_type": "stream",
     "text": [
      "This is the 1th iteration.\n",
      "This is the 2th iteration.\n",
      "This is the 3th iteration.\n"
     ]
    }
   ],
   "source": [
    "for qwerty in range(0, 3):\n",
    "    print(f'This is the {qwerty+1}th iteration.')"
   ]
  },
  {
   "cell_type": "code",
   "execution_count": 10,
   "id": "9c8fa7b3",
   "metadata": {},
   "outputs": [
    {
     "name": "stdout",
     "output_type": "stream",
     "text": [
      "0\n",
      "1\n",
      "4\n",
      "9\n",
      "16\n"
     ]
    }
   ],
   "source": [
    "for t in range(0, 5):\n",
    "    num = t**2\n",
    "    print(num)"
   ]
  },
  {
   "cell_type": "code",
   "execution_count": 14,
   "id": "bff05acd",
   "metadata": {},
   "outputs": [
    {
     "name": "stdout",
     "output_type": "stream",
     "text": [
      "32 to the power of 0 is 1\n",
      "32 to the power of 1 is 32\n",
      "32 to the power of 2 is 1024\n",
      "32 to the power of 3 is 32768\n",
      "32 to the power of 4 is 1048576\n",
      "32 to the power of 5 is 33554432\n",
      "32 to the power of 6 is 1073741824\n",
      "32 to the power of 7 is 34359738368\n",
      "32 to the power of 8 is 1099511627776\n",
      "32 to the power of 9 is 35184372088832\n"
     ]
    }
   ],
   "source": [
    "base = 32\n",
    "for pwr in range(10):\n",
    "    print(f\"{base} to the power of {pwr} is {base**pwr}\")"
   ]
  },
  {
   "cell_type": "code",
   "execution_count": 15,
   "id": "0575db44",
   "metadata": {},
   "outputs": [
    {
     "name": "stdout",
     "output_type": "stream",
     "text": [
      "9\n"
     ]
    }
   ],
   "source": [
    "print(4 + 3 * 2 - 1)"
   ]
  },
  {
   "cell_type": "code",
   "execution_count": 18,
   "id": "8b1e0060",
   "metadata": {},
   "outputs": [
    {
     "name": "stdout",
     "output_type": "stream",
     "text": [
      "7\n"
     ]
    }
   ],
   "source": [
    "print((4 + 3) * (2 -1))"
   ]
  },
  {
   "cell_type": "code",
   "execution_count": 19,
   "id": "f262c6db",
   "metadata": {},
   "outputs": [
    {
     "name": "stdout",
     "output_type": "stream",
     "text": [
      "2.0\n"
     ]
    }
   ],
   "source": [
    "print(4 * 5 / (7 + 3))"
   ]
  },
  {
   "cell_type": "code",
   "execution_count": 20,
   "id": "237f5702",
   "metadata": {},
   "outputs": [
    {
     "name": "stdout",
     "output_type": "stream",
     "text": [
      "0.0\n"
     ]
    }
   ],
   "source": [
    "print(9 / (3 + 6) -1)"
   ]
  },
  {
   "cell_type": "code",
   "execution_count": 22,
   "id": "5b896120",
   "metadata": {},
   "outputs": [
    {
     "data": {
      "text/plain": [
       "False"
      ]
     },
     "execution_count": 22,
     "metadata": {},
     "output_type": "execute_result"
    }
   ],
   "source": [
    "4 > 5"
   ]
  },
  {
   "cell_type": "code",
   "execution_count": 23,
   "id": "26868f24",
   "metadata": {},
   "outputs": [],
   "source": [
    "b = 10 > 3*3"
   ]
  },
  {
   "cell_type": "code",
   "execution_count": 24,
   "id": "999930c1",
   "metadata": {},
   "outputs": [
    {
     "data": {
      "text/plain": [
       "True"
      ]
     },
     "execution_count": 24,
     "metadata": {},
     "output_type": "execute_result"
    }
   ],
   "source": [
    "b"
   ]
  },
  {
   "cell_type": "code",
   "execution_count": 25,
   "id": "5752d158",
   "metadata": {},
   "outputs": [],
   "source": [
    "theTest = 4 == 2 + 2"
   ]
  },
  {
   "cell_type": "code",
   "execution_count": 27,
   "id": "3bf08416",
   "metadata": {
    "scrolled": true
   },
   "outputs": [
    {
     "data": {
      "text/plain": [
       "True"
      ]
     },
     "execution_count": 27,
     "metadata": {},
     "output_type": "execute_result"
    }
   ],
   "source": [
    "theTest"
   ]
  },
  {
   "cell_type": "code",
   "execution_count": 13,
   "id": "ae062ff8",
   "metadata": {},
   "outputs": [],
   "source": [
    "x = 4"
   ]
  },
  {
   "cell_type": "code",
   "execution_count": 14,
   "id": "25dd10f8",
   "metadata": {},
   "outputs": [
    {
     "data": {
      "text/plain": [
       "False"
      ]
     },
     "execution_count": 14,
     "metadata": {},
     "output_type": "execute_result"
    }
   ],
   "source": [
    "4*x+3 < 17-x**2"
   ]
  },
  {
   "cell_type": "code",
   "execution_count": 15,
   "id": "0442861c",
   "metadata": {},
   "outputs": [
    {
     "data": {
      "text/plain": [
       "True"
      ]
     },
     "execution_count": 15,
     "metadata": {},
     "output_type": "execute_result"
    }
   ],
   "source": [
    "8*x-2 <= -3*x+42"
   ]
  },
  {
   "cell_type": "code",
   "execution_count": 16,
   "id": "72bff174",
   "metadata": {},
   "outputs": [
    {
     "name": "stdout",
     "output_type": "stream",
     "text": [
      "true\n"
     ]
    }
   ],
   "source": [
    "if 4+2 == 6:\n",
    "    print('true')"
   ]
  },
  {
   "cell_type": "code",
   "execution_count": 24,
   "id": "d3444257",
   "metadata": {},
   "outputs": [
    {
     "data": {
      "text/latex": [
       "$\\displaystyle 1^{-1} = 1$"
      ],
      "text/plain": [
       "<IPython.core.display.Math object>"
      ]
     },
     "metadata": {},
     "output_type": "display_data"
    },
    {
     "data": {
      "text/latex": [
       "$\\displaystyle 1^{-2} = 1$"
      ],
      "text/plain": [
       "<IPython.core.display.Math object>"
      ]
     },
     "metadata": {},
     "output_type": "display_data"
    },
    {
     "data": {
      "text/latex": [
       "$\\displaystyle 1^{-3} = 1$"
      ],
      "text/plain": [
       "<IPython.core.display.Math object>"
      ]
     },
     "metadata": {},
     "output_type": "display_data"
    },
    {
     "data": {
      "text/latex": [
       "$\\displaystyle 1^{-4} = 1$"
      ],
      "text/plain": [
       "<IPython.core.display.Math object>"
      ]
     },
     "metadata": {},
     "output_type": "display_data"
    },
    {
     "data": {
      "text/latex": [
       "$\\displaystyle 2^{-1} = 0.5$"
      ],
      "text/plain": [
       "<IPython.core.display.Math object>"
      ]
     },
     "metadata": {},
     "output_type": "display_data"
    },
    {
     "data": {
      "text/latex": [
       "$\\displaystyle 2^{-2} = 0.25$"
      ],
      "text/plain": [
       "<IPython.core.display.Math object>"
      ]
     },
     "metadata": {},
     "output_type": "display_data"
    },
    {
     "data": {
      "text/latex": [
       "$\\displaystyle 2^{-3} = 0.125$"
      ],
      "text/plain": [
       "<IPython.core.display.Math object>"
      ]
     },
     "metadata": {},
     "output_type": "display_data"
    },
    {
     "data": {
      "text/latex": [
       "$\\displaystyle 2^{-4} = 0.0625$"
      ],
      "text/plain": [
       "<IPython.core.display.Math object>"
      ]
     },
     "metadata": {},
     "output_type": "display_data"
    },
    {
     "data": {
      "text/latex": [
       "$\\displaystyle 3^{-1} = 0.333333$"
      ],
      "text/plain": [
       "<IPython.core.display.Math object>"
      ]
     },
     "metadata": {},
     "output_type": "display_data"
    },
    {
     "data": {
      "text/latex": [
       "$\\displaystyle 3^{-2} = 0.111111$"
      ],
      "text/plain": [
       "<IPython.core.display.Math object>"
      ]
     },
     "metadata": {},
     "output_type": "display_data"
    },
    {
     "data": {
      "text/latex": [
       "$\\displaystyle 3^{-3} = 0.037037$"
      ],
      "text/plain": [
       "<IPython.core.display.Math object>"
      ]
     },
     "metadata": {},
     "output_type": "display_data"
    },
    {
     "data": {
      "text/latex": [
       "$\\displaystyle 3^{-4} = 0.0123457$"
      ],
      "text/plain": [
       "<IPython.core.display.Math object>"
      ]
     },
     "metadata": {},
     "output_type": "display_data"
    }
   ],
   "source": [
    "from IPython.display import display, Math\n",
    "\n",
    "for i in range(4):\n",
    "    for j in range(5):\n",
    "        if i > 0 and j > 0:\n",
    "            display(Math(\"%g^{-%g} = %g\" % (i, j, i**(-j))))\n",
    "        "
   ]
  },
  {
   "cell_type": "code",
   "execution_count": 28,
   "id": "e1564895",
   "metadata": {},
   "outputs": [
    {
     "data": {
      "text/plain": [
       "(-4, 4)"
      ]
     },
     "execution_count": 28,
     "metadata": {},
     "output_type": "execute_result"
    }
   ],
   "source": [
    "a = -4\n",
    "b = abs(a)\n",
    "a, b"
   ]
  },
  {
   "cell_type": "code",
   "execution_count": 31,
   "id": "40aec4fd",
   "metadata": {},
   "outputs": [
    {
     "data": {
      "text/latex": [
       "$\\displaystyle |7| = 7$"
      ],
      "text/plain": [
       "<IPython.core.display.Math object>"
      ]
     },
     "metadata": {},
     "output_type": "display_data"
    }
   ],
   "source": [
    "x = 7\n",
    "\n",
    "display(Math('|%g| = %g' % (x, abs(x))))"
   ]
  },
  {
   "cell_type": "code",
   "execution_count": 32,
   "id": "cc345f49",
   "metadata": {},
   "outputs": [
    {
     "name": "stdout",
     "output_type": "stream",
     "text": [
      "-4 was not tested.\n"
     ]
    },
    {
     "data": {
      "text/latex": [
       "$\\displaystyle |6| = 6$"
      ],
      "text/plain": [
       "<IPython.core.display.Math object>"
      ]
     },
     "metadata": {},
     "output_type": "display_data"
    },
    {
     "name": "stdout",
     "output_type": "stream",
     "text": [
      "-1 was not tested.\n"
     ]
    },
    {
     "data": {
      "text/latex": [
       "$\\displaystyle |43| = 43$"
      ],
      "text/plain": [
       "<IPython.core.display.Math object>"
      ]
     },
     "metadata": {},
     "output_type": "display_data"
    },
    {
     "data": {
      "text/latex": [
       "$\\displaystyle |18| = 18$"
      ],
      "text/plain": [
       "<IPython.core.display.Math object>"
      ]
     },
     "metadata": {},
     "output_type": "display_data"
    },
    {
     "name": "stdout",
     "output_type": "stream",
     "text": [
      "2 was not tested.\n",
      "0 was not tested.\n"
     ]
    }
   ],
   "source": [
    "numSet = [-4, 6, -1, 43, 18, 2, 0]\n",
    "\n",
    "for num in numSet:\n",
    "    if num < -5 or num > 2:\n",
    "        display(Math('|%g| = %g' % (num, abs(num))))\n",
    "    else:\n",
    "        print(f\"{num} was not tested.\")"
   ]
  },
  {
   "cell_type": "code",
   "execution_count": 44,
   "id": "bc2b8931",
   "metadata": {},
   "outputs": [],
   "source": [
    "a = 12345678654322\n",
    "b = 493405349"
   ]
  },
  {
   "cell_type": "code",
   "execution_count": 45,
   "id": "5cad2cbf",
   "metadata": {},
   "outputs": [],
   "source": [
    "div = a//b\n",
    "remainder = a % b"
   ]
  },
  {
   "cell_type": "code",
   "execution_count": 46,
   "id": "ee359a4f",
   "metadata": {},
   "outputs": [
    {
     "name": "stdout",
     "output_type": "stream",
     "text": [
      "493405349 goes into 12345678654322, 25021 times with a remainder of 183416993\n"
     ]
    }
   ],
   "source": [
    "print(f\"{b} goes into {a}, {div} times with a remainder of {remainder}\")"
   ]
  },
  {
   "cell_type": "code",
   "execution_count": 55,
   "id": "b0d8906a",
   "metadata": {},
   "outputs": [
    {
     "name": "stdout",
     "output_type": "stream",
     "text": [
      "-5 is an odd  number.\n",
      "-4 is an even number.\n",
      "-3 is an odd  number.\n",
      "-2 is an even number.\n",
      "-1 is an odd  number.\n",
      " 0 is an even number.\n",
      " 1 is an odd  number.\n",
      " 2 is an even number.\n",
      " 3 is an odd  number.\n",
      " 4 is an even number.\n",
      " 5 is an odd  number.\n"
     ]
    }
   ],
   "source": [
    "for i in range(-5, 6):\n",
    "    \n",
    "    firstchar = ' '\n",
    "    if i < 0:\n",
    "        firstchar = ''\n",
    "    \n",
    "    if i % 2 == 0:\n",
    "        print(f\"{firstchar}{i} is an even number.\")\n",
    "    else:\n",
    "        print(f\"{firstchar}{i} is an odd  number.\")"
   ]
  },
  {
   "cell_type": "code",
   "execution_count": 58,
   "id": "f2d6fc35",
   "metadata": {},
   "outputs": [],
   "source": [
    "def myfunction(name):\n",
    "    print(f'Hello {name}.')"
   ]
  },
  {
   "cell_type": "code",
   "execution_count": 59,
   "id": "855c7e14",
   "metadata": {},
   "outputs": [
    {
     "name": "stdout",
     "output_type": "stream",
     "text": [
      "Hello Jinjia.\n"
     ]
    }
   ],
   "source": [
    "myfunction('Jinjia')"
   ]
  },
  {
   "cell_type": "code",
   "execution_count": 60,
   "id": "5f33cd08",
   "metadata": {},
   "outputs": [],
   "source": [
    "def computeremainder(x, y):\n",
    "    divis = x//y\n",
    "    remainder = x%y\n",
    "    \n",
    "    print(f'{y} goes into {x}, {divis} times with a remaider {remainder}')"
   ]
  },
  {
   "cell_type": "code",
   "execution_count": 61,
   "id": "f144f70b",
   "metadata": {},
   "outputs": [
    {
     "name": "stdout",
     "output_type": "stream",
     "text": [
      "4 goes into 10, 2 times with a remaider 2\n"
     ]
    }
   ],
   "source": [
    "computeremainder(10, 4)"
   ]
  },
  {
   "cell_type": "code",
   "execution_count": 68,
   "id": "3e11277d",
   "metadata": {},
   "outputs": [],
   "source": [
    "def computeremainder():\n",
    "    \n",
    "    x = float(input('Input the numerator: '))\n",
    "    y = float(input('Input the denominator: '))\n",
    "    \n",
    "    divis = x//y\n",
    "    remainder = x%y\n",
    "    \n",
    "    print(f'{y} goes into {x}, {divis} times with a remaider of {remainder}') "
   ]
  },
  {
   "cell_type": "code",
   "execution_count": 69,
   "id": "fed92181",
   "metadata": {},
   "outputs": [
    {
     "name": "stdout",
     "output_type": "stream",
     "text": [
      "Input the numerator: 540.4546\n",
      "Input the denominator: 545.549\n",
      "545.549 goes into 540.4546, 0.0 times with a remaider of 540.4546\n"
     ]
    }
   ],
   "source": [
    "computeremainder()"
   ]
  },
  {
   "cell_type": "code",
   "execution_count": 101,
   "id": "80de7525",
   "metadata": {},
   "outputs": [],
   "source": [
    "def pwr(x, y):\n",
    "    #Input x, y - ints, prints x**y\n",
    "    display(Math('%g ^ {%g} = %g' % (x, y, x**y)))"
   ]
  },
  {
   "cell_type": "code",
   "execution_count": 102,
   "id": "87d67b4a",
   "metadata": {},
   "outputs": [],
   "source": [
    "def div(x, y):\n",
    "    #Input x, y - ints, prints x/y\n",
    "    display(Math('\\\\frac {%g} {%g} = %g' % (x, y, x/y)))"
   ]
  },
  {
   "cell_type": "code",
   "execution_count": 117,
   "id": "a6b998bc",
   "metadata": {},
   "outputs": [],
   "source": [
    "def calculator():\n",
    "    \n",
    "    x = float(input('Input X: '))\n",
    "    y = float(input('Input Y: '))\n",
    "    \n",
    "    display(Math('\\\\text {Press \"1\" to compute } %g ^ {%g} \\\\text {or \"2\" to compute } \\\\frac {%g} {%g} : ' % (x, y, x, y)))\n",
    "    \n",
    "    choice = input(' ')\n",
    "    \n",
    "    if choice == \"1\":\n",
    "        pwr(x, y)\n",
    "    elif choice == \"2\":\n",
    "        div(x, y)\n",
    "    else:\n",
    "        print('Invalid selection!')"
   ]
  },
  {
   "cell_type": "code",
   "execution_count": 118,
   "id": "a1f56992",
   "metadata": {},
   "outputs": [
    {
     "name": "stdout",
     "output_type": "stream",
     "text": [
      "Input X: 5\n",
      "Input Y: 4\n"
     ]
    },
    {
     "data": {
      "text/latex": [
       "$\\displaystyle \\text {Press \"1\" to compute } 5 ^ {4} \\text {or \"2\" to compute } \\frac {5} {4} : $"
      ],
      "text/plain": [
       "<IPython.core.display.Math object>"
      ]
     },
     "metadata": {},
     "output_type": "display_data"
    },
    {
     "name": "stdout",
     "output_type": "stream",
     "text": [
      " 1\n"
     ]
    },
    {
     "data": {
      "text/latex": [
       "$\\displaystyle 5 ^ {4} = 625$"
      ],
      "text/plain": [
       "<IPython.core.display.Math object>"
      ]
     },
     "metadata": {},
     "output_type": "display_data"
    }
   ],
   "source": [
    "calculator()"
   ]
  },
  {
   "cell_type": "code",
   "execution_count": 140,
   "id": "b82c9d55",
   "metadata": {},
   "outputs": [],
   "source": [
    "import numpy as np\n",
    "\n",
    "def guessTheNumber():\n",
    "    \n",
    "    num = np.random.randint(1, 101)\n",
    "    guess = int(input(\"Guess a number between 1 and 100: \"))\n",
    "    #print(num)\n",
    "    \n",
    "    gameRun = True\n",
    "    \n",
    "    while gameRun:\n",
    "\n",
    "        if guess > num:\n",
    "            print('Guess lower!')   \n",
    "            guess = int(input(\"Guess again: \"))\n",
    "        elif guess < num:\n",
    "            print('Guess higher!')\n",
    "            guess = int(input(\"Guess again: \"))\n",
    "        else:\n",
    "            print(f'Got it! The right number was {num} and your final guess was {guess}')\n",
    "            gameRun = False\n",
    "            \n",
    "        \n",
    "    "
   ]
  },
  {
   "cell_type": "code",
   "execution_count": 141,
   "id": "b336bde9",
   "metadata": {},
   "outputs": [
    {
     "name": "stdout",
     "output_type": "stream",
     "text": [
      "Guess a number between 1 and 100: 50\n",
      "Guess lower!\n",
      "Guess again: 25\n",
      "Guess higher!\n",
      "Guess again: 37\n",
      "Guess lower!\n",
      "Guess again: 31\n",
      "Guess lower!\n",
      "Guess again: 28\n",
      "Guess higher!\n",
      "Guess again: 29\n",
      "Guess higher!\n",
      "Guess again: 30\n",
      "Got it! The right number was 30 and your final guess was 30\n"
     ]
    }
   ],
   "source": [
    "guessTheNumber()"
   ]
  },
  {
   "cell_type": "code",
   "execution_count": 2,
   "id": "f4e0d408",
   "metadata": {},
   "outputs": [
    {
     "name": "stdout",
     "output_type": "stream",
     "text": [
      "3\n"
     ]
    }
   ],
   "source": [
    "x = 1\n",
    "y = 2\n",
    "print(x+y)"
   ]
  },
  {
   "cell_type": "code",
   "execution_count": 3,
   "id": "3293231c",
   "metadata": {},
   "outputs": [],
   "source": [
    "from IPython.display import display, Math"
   ]
  },
  {
   "cell_type": "code",
   "execution_count": 4,
   "id": "075922ea",
   "metadata": {},
   "outputs": [
    {
     "data": {
      "text/latex": [
       "$\\displaystyle \\frac {1} {2}$"
      ],
      "text/plain": [
       "<IPython.core.display.Math object>"
      ]
     },
     "metadata": {},
     "output_type": "display_data"
    }
   ],
   "source": [
    "display(Math('\\\\frac {1} {2}'))"
   ]
  },
  {
   "cell_type": "code",
   "execution_count": 5,
   "id": "3eac46f3",
   "metadata": {},
   "outputs": [
    {
     "data": {
      "text/latex": [
       "$\\displaystyle 4 + 5 = 9$"
      ],
      "text/plain": [
       "<IPython.core.display.Math object>"
      ]
     },
     "metadata": {},
     "output_type": "display_data"
    }
   ],
   "source": [
    "x = 4\n",
    "y = 5\n",
    "\n",
    "display(Math('%g + %g = %g' % (x, y, x+y)))"
   ]
  },
  {
   "cell_type": "code",
   "execution_count": 6,
   "id": "7cf860f3",
   "metadata": {},
   "outputs": [
    {
     "data": {
      "text/latex": [
       "$\\displaystyle \\frac {4} {5} = 0.8$"
      ],
      "text/plain": [
       "<IPython.core.display.Math object>"
      ]
     },
     "metadata": {},
     "output_type": "display_data"
    }
   ],
   "source": [
    "display(Math('\\\\frac {%g} {%g} = %g' % (x, y, x/y)))"
   ]
  },
  {
   "cell_type": "code",
   "execution_count": 7,
   "id": "01bf7a06",
   "metadata": {},
   "outputs": [
    {
     "data": {
      "text/plain": [
       "9"
      ]
     },
     "execution_count": 7,
     "metadata": {},
     "output_type": "execute_result"
    }
   ],
   "source": [
    "3 ** 2"
   ]
  },
  {
   "cell_type": "code",
   "execution_count": 12,
   "id": "b7fd0698",
   "metadata": {},
   "outputs": [
    {
     "data": {
      "text/latex": [
       "$\\displaystyle 0 \\times 2 = 0$"
      ],
      "text/plain": [
       "<IPython.core.display.Math object>"
      ]
     },
     "metadata": {},
     "output_type": "display_data"
    },
    {
     "data": {
      "text/latex": [
       "$\\displaystyle 1 \\times 2 = 2$"
      ],
      "text/plain": [
       "<IPython.core.display.Math object>"
      ]
     },
     "metadata": {},
     "output_type": "display_data"
    },
    {
     "data": {
      "text/latex": [
       "$\\displaystyle 2 \\times 2 = 4$"
      ],
      "text/plain": [
       "<IPython.core.display.Math object>"
      ]
     },
     "metadata": {},
     "output_type": "display_data"
    }
   ],
   "source": [
    "for i in range(3):\n",
    "    display(Math('%g \\\\times 2 = %g' % (i, i*2)))"
   ]
  },
  {
   "cell_type": "code",
   "execution_count": 13,
   "id": "85c56edf",
   "metadata": {},
   "outputs": [
    {
     "name": "stdout",
     "output_type": "stream",
     "text": [
      "True\n"
     ]
    }
   ],
   "source": [
    "a = 10\n",
    "b = 20\n",
    "\n",
    "result = 2*a <= b\n",
    "\n",
    "print(result)"
   ]
  },
  {
   "cell_type": "code",
   "execution_count": null,
   "id": "1c7326bb",
   "metadata": {},
   "outputs": [],
   "source": []
  }
 ],
 "metadata": {
  "kernelspec": {
   "display_name": "Python 3 (ipykernel)",
   "language": "python",
   "name": "python3"
  },
  "language_info": {
   "codemirror_mode": {
    "name": "ipython",
    "version": 3
   },
   "file_extension": ".py",
   "mimetype": "text/x-python",
   "name": "python",
   "nbconvert_exporter": "python",
   "pygments_lexer": "ipython3",
   "version": "3.9.13"
  }
 },
 "nbformat": 4,
 "nbformat_minor": 5
}
